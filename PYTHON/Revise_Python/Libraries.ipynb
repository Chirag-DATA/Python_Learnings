{
 "cells": [
  {
   "cell_type": "markdown",
   "id": "152bc31f",
   "metadata": {},
   "source": [
    "#### Standard Library"
   ]
  },
  {
   "cell_type": "code",
   "execution_count": null,
   "id": "b05ec5a2",
   "metadata": {},
   "outputs": [
    {
     "data": {
      "text/plain": [
       "array('i', [1, 2, 3, 4])"
      ]
     },
     "execution_count": 2,
     "metadata": {},
     "output_type": "execute_result"
    }
   ],
   "source": [
    "# array functions\n",
    "import array\n",
    "arr = array.array('i',[1,2,3,4])\n",
    "arr"
   ]
  },
  {
   "cell_type": "code",
   "execution_count": null,
   "id": "672477e6",
   "metadata": {},
   "outputs": [
    {
     "name": "stdout",
     "output_type": "stream",
     "text": [
      "5.0\n"
     ]
    }
   ],
   "source": [
    "# maths functions\n",
    "import math\n",
    "print(math.sqrt(25))"
   ]
  },
  {
   "cell_type": "code",
   "execution_count": null,
   "id": "dfe08db9",
   "metadata": {},
   "outputs": [
    {
     "name": "stdout",
     "output_type": "stream",
     "text": [
      "9\n"
     ]
    }
   ],
   "source": [
    "# random\n",
    "import random \n",
    "r = random.randint(1,10)\n",
    "print(r)"
   ]
  },
  {
   "cell_type": "code",
   "execution_count": null,
   "id": "ef4d89c9",
   "metadata": {},
   "outputs": [
    {
     "name": "stdout",
     "output_type": "stream",
     "text": [
      "c:\\Users\\Chirag\\Desktop\\DATA SCIENCE\\PYTHON\\Revise_Python\n"
     ]
    }
   ],
   "source": [
    "# file and directory access \n",
    "import os\n",
    "print(os.getcwd())\n",
    "# os.mkdir('test.txt')      #to make directory(folder) in the working directory"
   ]
  },
  {
   "cell_type": "code",
   "execution_count": null,
   "id": "d01acbe7",
   "metadata": {},
   "outputs": [],
   "source": [
    "#high level file handling\n",
    "import shutil\n",
    "# shutil.copyfile('test.txt','destination.txt')  #to copy the whole content of one file to another"
   ]
  },
  {
   "cell_type": "code",
   "execution_count": 17,
   "id": "672ee0d7",
   "metadata": {},
   "outputs": [
    {
     "name": "stdout",
     "output_type": "stream",
     "text": [
      "{\"name\": \"Chirag\", \"Age\": 21}\n",
      "<class 'str'>\n"
     ]
    }
   ],
   "source": [
    "# Data Serialization\n",
    "import json\n",
    "data = {\"name\": \"Chirag\",\"Age\": 21}\n",
    "json_data = json.dumps(data)\n",
    "print(json_data)\n",
    "print(type(json_data))"
   ]
  },
  {
   "cell_type": "code",
   "execution_count": null,
   "id": "273ac6a8",
   "metadata": {},
   "outputs": [
    {
     "name": "stdout",
     "output_type": "stream",
     "text": [
      "['Name', 'Age']\n",
      "['Chirag', '21']\n"
     ]
    }
   ],
   "source": [
    "#csv \n",
    "import csv\n",
    "with open(\"example.csv\",mode = \"w\",newline=\"\") as file:    #create acsv file and write the content in it\n",
    "    writer = csv.writer(file)\n",
    "    writer.writerow([\"Name\",\"Age\"])\n",
    "    writer.writerow([\"Chirag\",21])\n",
    "\n",
    "with open(\"example.csv\",mode = \"r\",newline=\"\") as file:     #read the content of existing csv file\n",
    "    reader = csv.reader(file)\n",
    "    for row in reader:\n",
    "        print(row)\n"
   ]
  },
  {
   "cell_type": "code",
   "execution_count": 25,
   "id": "1c844b2a",
   "metadata": {},
   "outputs": [
    {
     "name": "stdout",
     "output_type": "stream",
     "text": [
      "2025-08-26 15:13:58.058613\n",
      "2025-08-25 15:13:58.058613\n"
     ]
    }
   ],
   "source": [
    "#datetime\n",
    "from datetime import datetime,timedelta\n",
    "now = datetime.now()\n",
    "print(now)\n",
    "\n",
    "yesterday = now-timedelta(days=1)\n",
    "print(yesterday)"
   ]
  },
  {
   "cell_type": "code",
   "execution_count": null,
   "id": "e469311f",
   "metadata": {},
   "outputs": [
    {
     "name": "stdout",
     "output_type": "stream",
     "text": [
      "1756201483.180657\n",
      "1756201485.1828206\n"
     ]
    }
   ],
   "source": [
    "#time\n",
    "import time\n",
    "print(time.time())   #before sleep \n",
    "time.sleep(2)       #sleep the program for 2 seconds\n",
    "print(time.time())   #after sleep"
   ]
  },
  {
   "cell_type": "code",
   "execution_count": null,
   "id": "250cbe42",
   "metadata": {},
   "outputs": [
    {
     "name": "stdout",
     "output_type": "stream",
     "text": [
      "<re.Match object; span=(10, 12), match='12'>\n"
     ]
    }
   ],
   "source": [
    "#Regular expression\n",
    "import re\n",
    "pattern = r'\\d+'    #finds the digits in the text\n",
    "text = \"There are 12 apples in a row\"\n",
    "match = re.search(pattern,text)     #searching the defined pattern in text\n",
    "print(match)\n"
   ]
  }
 ],
 "metadata": {
  "kernelspec": {
   "display_name": "Python 3",
   "language": "python",
   "name": "python3"
  },
  "language_info": {
   "codemirror_mode": {
    "name": "ipython",
    "version": 3
   },
   "file_extension": ".py",
   "mimetype": "text/x-python",
   "name": "python",
   "nbconvert_exporter": "python",
   "pygments_lexer": "ipython3",
   "version": "3.12.0"
  }
 },
 "nbformat": 4,
 "nbformat_minor": 5
}
