{
 "cells": [
  {
   "cell_type": "markdown",
   "id": "ee119349",
   "metadata": {},
   "source": [
    "#### Starting with OOP concepts"
   ]
  },
  {
   "cell_type": "code",
   "execution_count": null,
   "id": "1dfb9567",
   "metadata": {},
   "outputs": [
    {
     "name": "stdout",
     "output_type": "stream",
     "text": [
      "Karan\n"
     ]
    }
   ],
   "source": [
    "#basics\n",
    "class Student:       #define a class\n",
    "    name = \"Karan\"\n",
    "\n",
    "s1 = Student()        #creating an object of the class \n",
    "print(s1.name)        #calling the action in class"
   ]
  },
  {
   "cell_type": "markdown",
   "id": "5edc4fce",
   "metadata": {},
   "source": [
    "#### Constructor\n",
    "a method in class that is invoked automatically whenever an object of class is created.\n",
    "specially used to assign or initialize values to data members of the class."
   ]
  },
  {
   "cell_type": "code",
   "execution_count": null,
   "id": "4cd0f8ca",
   "metadata": {},
   "outputs": [
    {
     "name": "stdout",
     "output_type": "stream",
     "text": [
      "This is automatically called...\n"
     ]
    }
   ],
   "source": [
    "class Student:\n",
    "    def __init__(self):                         #default constructor\n",
    "        print(\"This is automatically called...\")       \n",
    "\n",
    "s1 = Student()"
   ]
  },
  {
   "cell_type": "code",
   "execution_count": null,
   "id": "9e84c0bf",
   "metadata": {},
   "outputs": [
    {
     "name": "stdout",
     "output_type": "stream",
     "text": [
      "My name is Chirag Mittal\n",
      "Chirag Mittal\n",
      "My name is Karan Mehta\n"
     ]
    }
   ],
   "source": [
    "class Student:\n",
    "    def __init__(self,fullname):     #parameterized constructor\n",
    "        self.name = fullname\n",
    "        print(f\"My name is {self.name}\")\n",
    "    \n",
    "s1 = Student(\"Chirag Mittal\")    #passing parameter in the object\n",
    "print(s1.name)\n",
    "\n",
    "s2 = Student(\"Karan Mehta\")    #second object"
   ]
  },
  {
   "cell_type": "markdown",
   "id": "c7e58ced",
   "metadata": {},
   "source": [
    "#### Class attribute v/s Instance attribute"
   ]
  },
  {
   "cell_type": "code",
   "execution_count": null,
   "id": "27dfd73c",
   "metadata": {},
   "outputs": [
    {
     "name": "stdout",
     "output_type": "stream",
     "text": [
      "Chirag got 97 marks within the ABC college\n",
      "Karan got 94 marks within the ABC college\n"
     ]
    }
   ],
   "source": [
    "class Student:\n",
    "    college = \"ABC college\"        #class attribute(at class level)\n",
    "    def __init__(self, name,marks):\n",
    "        self.name = name           #instance attribute(at instance level)\n",
    "        self.marks = marks\n",
    "\n",
    "s1 = Student(\"Chirag\",97)\n",
    "print(f\"{s1.name} got {s1.marks} marks within the {s1.college}\")\n",
    "\n",
    "s2 = Student(\"Karan\",94)\n",
    "print(f\"{s2.name} got {s2.marks} marks within the {s2.college}\")"
   ]
  },
  {
   "cell_type": "markdown",
   "id": "59cdf594",
   "metadata": {},
   "source": [
    "#### METHODS"
   ]
  },
  {
   "cell_type": "code",
   "execution_count": null,
   "id": "d9f805d3",
   "metadata": {},
   "outputs": [
    {
     "name": "stdout",
     "output_type": "stream",
     "text": [
      "Hi Chirag, Your average score is 96.0\n"
     ]
    }
   ],
   "source": [
    "class Student:\n",
    "    def __init__(self,name,marks):\n",
    "        self.name = name\n",
    "        self.marks = marks\n",
    "    \n",
    "    def avg(self):         #defining method\n",
    "        sum = 0\n",
    "        for i in self.marks:\n",
    "            sum += i\n",
    "        print(f\"Hi {self.name}, Your average score is {sum/len(self.marks)}\")\n",
    "    \n",
    "s1 = Student(\"Chirag\",[97,98,94,95,96])\n",
    "s1.avg()\n"
   ]
  },
  {
   "cell_type": "code",
   "execution_count": null,
   "id": "58eed352",
   "metadata": {},
   "outputs": [
    {
     "name": "stdout",
     "output_type": "stream",
     "text": [
      "Chirag\n",
      "Hello from static method\n"
     ]
    }
   ],
   "source": [
    "#static method\n",
    "\n",
    "class Student:\n",
    "    def __init__(self,name):\n",
    "        self.name = name\n",
    "        print(self.name)\n",
    "\n",
    "    @staticmethod\n",
    "    def hi():\n",
    "        print(\"Hello from static method\")``\n",
    "\n",
    "s1 = Student(\"Chirag\")\n",
    "s1.hi()     #calling static method\n",
    "    "
   ]
  },
  {
   "cell_type": "markdown",
   "id": "13181faa",
   "metadata": {},
   "source": [
    "#### Example"
   ]
  },
  {
   "cell_type": "code",
   "execution_count": 19,
   "id": "6797c8a2",
   "metadata": {},
   "outputs": [
    {
     "name": "stdout",
     "output_type": "stream",
     "text": [
      "Rs 5000 is debited from your account...\n",
      "Rs 10000 is credited in your account...\n",
      "Account Number : 121100\n",
      "Current Account Balance : Rs 25000\n"
     ]
    }
   ],
   "source": [
    "#define a Account class, add properties [Account number, Balance]\n",
    "#add methods for credit, debit and printing the balance\n",
    "\n",
    "class Bank:\n",
    "    def __init__(self,acc,bal):\n",
    "        self.bal = bal\n",
    "        self.acc = acc\n",
    "\n",
    "    def debit(self,dbt):\n",
    "        self.bal -= dbt\n",
    "        print(f\"Rs {dbt} is debited from your account...\")\n",
    "\n",
    "    def credit(self,crd):\n",
    "        self.bal += crd\n",
    "        print(f\"Rs {crd} is credited in your account...\")\n",
    "\n",
    "    def show(self):\n",
    "        print(f\"Account Number : {self.acc}\")\n",
    "        print(f\"Current Account Balance : Rs {self.bal}\")\n",
    "\n",
    "customer1 = Bank(121100,20000)\n",
    "customer1.debit(5000)\n",
    "customer1.credit(10000)\n",
    "customer1.show()"
   ]
  },
  {
   "cell_type": "markdown",
   "id": "effb9a73",
   "metadata": {},
   "source": [
    "#### Access Modifier\n",
    "No concept of the public protected and private members.\n",
    "Only a conception."
   ]
  },
  {
   "cell_type": "code",
   "execution_count": null,
   "id": "db26e3c6",
   "metadata": {},
   "outputs": [
    {
     "name": "stdout",
     "output_type": "stream",
     "text": [
      "Chirag\n"
     ]
    },
    {
     "ename": "AttributeError",
     "evalue": "'Person' object has no attribute '__acc_pswd'",
     "output_type": "error",
     "traceback": [
      "\u001b[1;31m---------------------------------------------------------------------------\u001b[0m",
      "\u001b[1;31mAttributeError\u001b[0m                            Traceback (most recent call last)",
      "Cell \u001b[1;32mIn[1], line 10\u001b[0m\n\u001b[0;32m      8\u001b[0m p \u001b[38;5;241m=\u001b[39m Person()\n\u001b[0;32m      9\u001b[0m \u001b[38;5;28mprint\u001b[39m(p\u001b[38;5;241m.\u001b[39mname)\n\u001b[1;32m---> 10\u001b[0m \u001b[38;5;28mprint\u001b[39m(\u001b[43mp\u001b[49m\u001b[38;5;241;43m.\u001b[39;49m\u001b[43m__acc_pswd\u001b[49m)\n\u001b[0;32m     11\u001b[0m __show()\n",
      "\u001b[1;31mAttributeError\u001b[0m: 'Person' object has no attribute '__acc_pswd'"
     ]
    }
   ],
   "source": [
    "#private members\n",
    "class Person:\n",
    "    name = \"Chirag\"          #public \n",
    "    __acc_pswd = \"abcde\"     #private\n",
    "    def __show():            #private\n",
    "        print(\"hello\")   \n",
    "\n",
    "p = Person()\n",
    "print(p.name)           #accessible\n",
    "print(p.__acc_pswd)     #not accessible --> error\n",
    "__show()                #not accessible --> error\n",
    "\n"
   ]
  },
  {
   "cell_type": "markdown",
   "id": "91b00d03",
   "metadata": {},
   "source": [
    "#### Inheritance\n",
    "When one class(Child/Derived) derives the properties and methods of another class (Parent Class)."
   ]
  },
  {
   "cell_type": "code",
   "execution_count": null,
   "id": "41897409",
   "metadata": {},
   "outputs": [
    {
     "name": "stdout",
     "output_type": "stream",
     "text": [
      "Fortuner\n",
      "Car Started...\n",
      "None\n",
      "Car stopped...\n",
      "None\n"
     ]
    }
   ],
   "source": [
    "#single level inheritance --> one base class and one child class\n",
    "class Car:\n",
    "    @staticmethod\n",
    "    def start():\n",
    "        print(\"Car Started...\")\n",
    "\n",
    "    @staticmethod\n",
    "    def stop():\n",
    "        print(\"Car stopped...\")\n",
    "    \n",
    "class Toyota(Car):       #inherits\n",
    "    def __init__(self,name):\n",
    "        self.name = name\n",
    "\n",
    "car = Toyota(\"Fortuner\")\n",
    "print(car.name)\n",
    "print(car.start())      #calling parent class method in chid class\n",
    "print(car.stop())\n"
   ]
  },
  {
   "cell_type": "code",
   "execution_count": null,
   "id": "401e9be2",
   "metadata": {},
   "outputs": [
    {
     "name": "stdout",
     "output_type": "stream",
     "text": [
      "Car Started...\n",
      "Car stopped...\n",
      "Toyota\n",
      "Diesel\n"
     ]
    }
   ],
   "source": [
    "#multilevel inheritance --> 2nd class inherits 1st, than 3rd class inherits 2nd...\n",
    "\n",
    "class Car:\n",
    "    @staticmethod\n",
    "    def start():\n",
    "        print(\"Car Started...\")\n",
    "\n",
    "    @staticmethod\n",
    "    def stop():\n",
    "        print(\"Car stopped...\")\n",
    "    \n",
    "class Toyota(Car):       #inherits the Car class\n",
    "    def __init__(self,brand):\n",
    "        self.name = brand\n",
    "\n",
    "class Fortuner(Toyota):       #inherits the Toyota class\n",
    "    def __init__(self,type):\n",
    "        self.type = type\n",
    "\n",
    "car = Fortuner(\"Diesel\")\n",
    "car.brand = \"Toyota\"\n",
    "car.start()\n",
    "car.stop()\n",
    "print(car.brand)\n",
    "print(car.type)\n",
    "\n",
    "\n"
   ]
  },
  {
   "cell_type": "code",
   "execution_count": 9,
   "id": "23190520",
   "metadata": {},
   "outputs": [
    {
     "name": "stdout",
     "output_type": "stream",
     "text": [
      "Tiger is a animal and belongs to family of big cat\n",
      "This is animal\n",
      "Cat is a animal\n"
     ]
    }
   ],
   "source": [
    "#multiple inheritance --> more tha one parent class and one child\n",
    "class Animals:\n",
    "    @staticmethod\n",
    "    def animal():\n",
    "        print(\"This is animal\")\n",
    "class Cat:\n",
    "    @staticmethod\n",
    "    def show():\n",
    "        print(\"Cat is a animal\")\n",
    "class Tiger(Animals,Cat):\n",
    "    def __init__(self):\n",
    "        print(\"Tiger is a animal and belongs to family of big cat\")\n",
    "\n",
    "t1 = Tiger()\n",
    "t1.animal()\n",
    "t1.show()\n"
   ]
  },
  {
   "cell_type": "code",
   "execution_count": 12,
   "id": "70ca928a",
   "metadata": {},
   "outputs": [
    {
     "name": "stdout",
     "output_type": "stream",
     "text": [
      "Car Started...\n",
      "Car stopped...\n",
      "Fortuner\n",
      "Electric\n"
     ]
    }
   ],
   "source": [
    "# super method --> used to access the parent class attributes in child class\n",
    "class Car:\n",
    "    def __init__(self,type):\n",
    "        self.type = type\n",
    "    @staticmethod\n",
    "    def start():\n",
    "        print(\"Car Started...\")\n",
    "\n",
    "    @staticmethod\n",
    "    def stop():\n",
    "        print(\"Car stopped...\")\n",
    "    \n",
    "class Toyota(Car):                   #inheritance\n",
    "    def __init__(self,name,type):\n",
    "        self.name = name\n",
    "        super().__init__(type) \n",
    "        super().start()\n",
    "        super().stop()\n",
    "car = Toyota(\"Fortuner\",\"Electric\")\n",
    "print(car.name)\n",
    "print(car.type)\n"
   ]
  },
  {
   "cell_type": "markdown",
   "id": "2df5cb5f",
   "metadata": {},
   "source": [
    "#### POLYMORPHISM\n",
    "operator overloading"
   ]
  },
  {
   "cell_type": "code",
   "execution_count": 17,
   "id": "1a062794",
   "metadata": {},
   "outputs": [
    {
     "name": "stdout",
     "output_type": "stream",
     "text": [
      "4i + 6j\n",
      "1i + 3j\n",
      "5i + 9j\n",
      "3i + 3j\n"
     ]
    }
   ],
   "source": [
    "class Complex:\n",
    "    def __init__(self,real,img):             #__init__ --> dunder function\n",
    "        self.real = real\n",
    "        self.img = img\n",
    "    \n",
    "    def showNum(self):\n",
    "        print(f\"{self.real}i + {self.img}j\")\n",
    "    \n",
    "    def __add__(self,num2):                   #__add__ --> dunder function for addition\n",
    "        newReal = self.real +  num2.real\n",
    "        newImg = self.img + num2.img\n",
    "        return Complex(newReal, newImg)\n",
    "    \n",
    "    def __sub__(self,num2):                  #__sub__ --> dunder function for subtraction\n",
    "        newReal = self.real -  num2.real\n",
    "        newImg = self.img - num2.img\n",
    "        return Complex(newReal, newImg)\n",
    "    \n",
    "num1 = Complex(4,6)\n",
    "num1.showNum()\n",
    "\n",
    "num2 = Complex(1,3)\n",
    "num2.showNum()\n",
    "\n",
    "num3 = num1 + num2\n",
    "num3.showNum()\n",
    "\n",
    "num4 = num1 - num2\n",
    "num4.showNum()"
   ]
  },
  {
   "cell_type": "markdown",
   "id": "73579df0",
   "metadata": {},
   "source": [
    "#### EXAMPLES"
   ]
  },
  {
   "cell_type": "code",
   "execution_count": 21,
   "id": "30a50cce",
   "metadata": {},
   "outputs": [
    {
     "name": "stdout",
     "output_type": "stream",
     "text": [
      "The area of circle is :  616.0\n",
      "The perimeter of the circle is :  88.0\n"
     ]
    }
   ],
   "source": [
    "#define a Circle class and then add methods for area and parameter\n",
    "class Circle:\n",
    "    def __init__(self,radius):\n",
    "        self.radius = radius\n",
    "    def area(self):\n",
    "        ar = (22/7) * (self.radius ** 2)\n",
    "        print(\"The area of circle is : \", ar)\n",
    "    def perimeter(self):\n",
    "        par = 2 * (22/7) * self.radius\n",
    "        print(\"The perimeter of the circle is : \",par)\n",
    "\n",
    "c = Circle(14)\n",
    "c.area()\n",
    "c.perimeter()\n"
   ]
  },
  {
   "cell_type": "code",
   "execution_count": null,
   "id": "5aa3a6b6",
   "metadata": {},
   "outputs": [
    {
     "name": "stdout",
     "output_type": "stream",
     "text": [
      "True\n"
     ]
    }
   ],
   "source": [
    "#define a order class that stores the items and their prices\n",
    "#define a dunder function that is __gt__()--> greater than function\n",
    "\n",
    "class Order:\n",
    "    def __init__(self,item,price):\n",
    "        self.item = item\n",
    "        self.price = price\n",
    "\n",
    "    def __gt__(self,ord2):             #logic for greater than function for the order class\n",
    "        return self.price > ord2.price\n",
    "ord1 = Order(\"Chips\",20)\n",
    "ord2 = Order(\"Biscuits\",10)\n",
    "print(ord1 > ord2)                    #calling of dunder function(__gt__())"
   ]
  }
 ],
 "metadata": {
  "kernelspec": {
   "display_name": "Python 3",
   "language": "python",
   "name": "python3"
  },
  "language_info": {
   "codemirror_mode": {
    "name": "ipython",
    "version": 3
   },
   "file_extension": ".py",
   "mimetype": "text/x-python",
   "name": "python",
   "nbconvert_exporter": "python",
   "pygments_lexer": "ipython3",
   "version": "3.12.0"
  }
 },
 "nbformat": 4,
 "nbformat_minor": 5
}
