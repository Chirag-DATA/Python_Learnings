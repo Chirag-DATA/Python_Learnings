{
 "cells": [
  {
   "cell_type": "markdown",
   "id": "ee119349",
   "metadata": {},
   "source": [
    "#### Starting with OOP concepts"
   ]
  },
  {
   "cell_type": "code",
   "execution_count": null,
   "id": "1dfb9567",
   "metadata": {},
   "outputs": [
    {
     "name": "stdout",
     "output_type": "stream",
     "text": [
      "Karan\n"
     ]
    }
   ],
   "source": [
    "#basics\n",
    "class Student:       #define a class\n",
    "    name = \"Karan\"\n",
    "\n",
    "s1 = Student()        #creating an object of the class \n",
    "print(s1.name)        #calling the action in class"
   ]
  },
  {
   "cell_type": "markdown",
   "id": "5edc4fce",
   "metadata": {},
   "source": [
    "#### Constructor\n",
    "a method in class that is invoked automatically whenever an object of class is created.\n",
    "specially used to assign or initialize values to data members of the class."
   ]
  },
  {
   "cell_type": "code",
   "execution_count": null,
   "id": "4cd0f8ca",
   "metadata": {},
   "outputs": [
    {
     "name": "stdout",
     "output_type": "stream",
     "text": [
      "This is automatically called...\n"
     ]
    }
   ],
   "source": [
    "class Student:\n",
    "    def __init__(self):                         #default constructor\n",
    "        print(\"This is automatically called...\")       \n",
    "\n",
    "s1 = Student()"
   ]
  },
  {
   "cell_type": "code",
   "execution_count": null,
   "id": "9e84c0bf",
   "metadata": {},
   "outputs": [
    {
     "name": "stdout",
     "output_type": "stream",
     "text": [
      "My name is Chirag Mittal\n",
      "Chirag Mittal\n",
      "My name is Karan Mehta\n"
     ]
    }
   ],
   "source": [
    "class Student:\n",
    "    def __init__(self,fullname):     #parameterized constructor\n",
    "        self.name = fullname\n",
    "        print(f\"My name is {self.name}\")\n",
    "    \n",
    "s1 = Student(\"Chirag Mittal\")    #passing parameter in the object\n",
    "print(s1.name)\n",
    "\n",
    "s2 = Student(\"Karan Mehta\")    #second object"
   ]
  },
  {
   "cell_type": "markdown",
   "id": "c7e58ced",
   "metadata": {},
   "source": [
    "#### Class attribute v/s Instance attribute"
   ]
  },
  {
   "cell_type": "code",
   "execution_count": null,
   "id": "27dfd73c",
   "metadata": {},
   "outputs": [
    {
     "name": "stdout",
     "output_type": "stream",
     "text": [
      "Chirag got 97 marks within the ABC college\n",
      "Karan got 94 marks within the ABC college\n"
     ]
    }
   ],
   "source": [
    "class Student:\n",
    "    college = \"ABC college\"        #class attribute(at class level)\n",
    "    def __init__(self, name,marks):\n",
    "        self.name = name           #instance attribute(at instance level)\n",
    "        self.marks = marks\n",
    "\n",
    "s1 = Student(\"Chirag\",97)\n",
    "print(f\"{s1.name} got {s1.marks} marks within the {s1.college}\")\n",
    "\n",
    "s2 = Student(\"Karan\",94)\n",
    "print(f\"{s2.name} got {s2.marks} marks within the {s2.college}\")"
   ]
  },
  {
   "cell_type": "markdown",
   "id": "59cdf594",
   "metadata": {},
   "source": [
    "#### METHODS"
   ]
  },
  {
   "cell_type": "code",
   "execution_count": null,
   "id": "d9f805d3",
   "metadata": {},
   "outputs": [
    {
     "name": "stdout",
     "output_type": "stream",
     "text": [
      "Hi Chirag, Your average score is 96.0\n"
     ]
    }
   ],
   "source": [
    "class Student:\n",
    "    def __init__(self,name,marks):\n",
    "        self.name = name\n",
    "        self.marks = marks\n",
    "    \n",
    "    def avg(self):         #defining method\n",
    "        sum = 0\n",
    "        for i in self.marks:\n",
    "            sum += i\n",
    "        print(f\"Hi {self.name}, Your average score is {sum/len(self.marks)}\")\n",
    "    \n",
    "s1 = Student(\"Chirag\",[97,98,94,95,96])\n",
    "s1.avg()\n"
   ]
  },
  {
   "cell_type": "code",
   "execution_count": null,
   "id": "58eed352",
   "metadata": {},
   "outputs": [
    {
     "name": "stdout",
     "output_type": "stream",
     "text": [
      "Chirag\n",
      "Hello from static method\n"
     ]
    }
   ],
   "source": [
    "#static method\n",
    "\n",
    "class Student:\n",
    "    def __init__(self,name):\n",
    "        self.name = name\n",
    "        print(self.name)\n",
    "\n",
    "    @staticmethod\n",
    "    def hi():\n",
    "        print(\"Hello from static method\")``\n",
    "\n",
    "s1 = Student(\"Chirag\")\n",
    "s1.hi()     #calling static method\n",
    "    "
   ]
  },
  {
   "cell_type": "markdown",
   "id": "13181faa",
   "metadata": {},
   "source": [
    "#### Example"
   ]
  },
  {
   "cell_type": "code",
   "execution_count": 19,
   "id": "6797c8a2",
   "metadata": {},
   "outputs": [
    {
     "name": "stdout",
     "output_type": "stream",
     "text": [
      "Rs 5000 is debited from your account...\n",
      "Rs 10000 is credited in your account...\n",
      "Account Number : 121100\n",
      "Current Account Balance : Rs 25000\n"
     ]
    }
   ],
   "source": [
    "#define a Account class, add properties [Account number, Balance]\n",
    "#add methods for credit, debit and printing the balance\n",
    "\n",
    "class Bank:\n",
    "    def __init__(self,acc,bal):\n",
    "        self.bal = bal\n",
    "        self.acc = acc\n",
    "\n",
    "    def debit(self,dbt):\n",
    "        self.bal -= dbt\n",
    "        print(f\"Rs {dbt} is debited from your account...\")\n",
    "\n",
    "    def credit(self,crd):\n",
    "        self.bal += crd\n",
    "        print(f\"Rs {crd} is credited in your account...\")\n",
    "\n",
    "    def show(self):\n",
    "        print(f\"Account Number : {self.acc}\")\n",
    "        print(f\"Current Account Balance : Rs {self.bal}\")\n",
    "\n",
    "customer1 = Bank(121100,20000)\n",
    "customer1.debit(5000)\n",
    "customer1.credit(10000)\n",
    "customer1.show()"
   ]
  }
 ],
 "metadata": {
  "kernelspec": {
   "display_name": "Python 3",
   "language": "python",
   "name": "python3"
  },
  "language_info": {
   "codemirror_mode": {
    "name": "ipython",
    "version": 3
   },
   "file_extension": ".py",
   "mimetype": "text/x-python",
   "name": "python",
   "nbconvert_exporter": "python",
   "pygments_lexer": "ipython3",
   "version": "3.12.0"
  }
 },
 "nbformat": 4,
 "nbformat_minor": 5
}
