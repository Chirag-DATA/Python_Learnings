{
 "cells": [
  {
   "cell_type": "markdown",
   "id": "3bb01081",
   "metadata": {},
   "source": [
    "#### Handling Exception"
   ]
  },
  {
   "cell_type": "code",
   "execution_count": null,
   "id": "fcc6b7ab",
   "metadata": {},
   "outputs": [
    {
     "name": "stdout",
     "output_type": "stream",
     "text": [
      "b is not defined...\n"
     ]
    }
   ],
   "source": [
    "#basic\n",
    "try:\n",
    "    a=b\n",
    "except:\n",
    "    print(\"b is not defined...\")"
   ]
  },
  {
   "cell_type": "code",
   "execution_count": 2,
   "id": "21432427",
   "metadata": {},
   "outputs": [
    {
     "name": "stdout",
     "output_type": "stream",
     "text": [
      "division by zero\n",
      "please enter a valid denominator...\n"
     ]
    }
   ],
   "source": [
    "try:\n",
    "    result = 10/0\n",
    "\n",
    "except ZeroDivisionError as ex:\n",
    "    print(ex)\n",
    "    print(\"please enter a valid denominator...\")"
   ]
  },
  {
   "cell_type": "code",
   "execution_count": 7,
   "id": "1bb790ac",
   "metadata": {},
   "outputs": [
    {
     "name": "stdout",
     "output_type": "stream",
     "text": [
      "division by zero\n"
     ]
    }
   ],
   "source": [
    "try:\n",
    "    n = int(input(\"Enter the number:\"))\n",
    "    c = 10/n\n",
    "except ValueError as v:        #to handle any other type of input other than int\n",
    "    print(v)\n",
    "except ZeroDivisionError as ze:    #to handle divide by zero error\n",
    "    print(ze)\n",
    "except Exception as e:             #to handle other remaining errors\n",
    "    print(e) \n"
   ]
  },
  {
   "cell_type": "markdown",
   "id": "10fe40e6",
   "metadata": {},
   "source": [
    "Else block --> if no error, then executes. \n",
    "If error, then don't executes."
   ]
  },
  {
   "cell_type": "code",
   "execution_count": null,
   "id": "754ae6c5",
   "metadata": {},
   "outputs": [
    {
     "name": "stdout",
     "output_type": "stream",
     "text": [
      "In else block\n",
      "2.0\n"
     ]
    }
   ],
   "source": [
    "# try, except, else block\n",
    "try:\n",
    "    n = int(input(\"Enter the number: \"))\n",
    "    re = 10/n\n",
    "except ValueError as ve:\n",
    "    print(\"Invalid input\")\n",
    "except:\n",
    "    print(\"Invalid denominator\")\n",
    "else:\n",
    "    print(\"In else block\")     #if no error, then it will executes\n",
    "    print(re)"
   ]
  },
  {
   "cell_type": "markdown",
   "id": "3f260c4c",
   "metadata": {},
   "source": [
    "Finally block --> no matter error occurs in code, it always executes.\n",
    "It is used when we have to print something at the end irrespective of error"
   ]
  },
  {
   "cell_type": "code",
   "execution_count": null,
   "id": "92c2bd05",
   "metadata": {},
   "outputs": [
    {
     "name": "stdout",
     "output_type": "stream",
     "text": [
      "In else block\n",
      "2.0\n",
      "This is to be execued always...\n"
     ]
    }
   ],
   "source": [
    "#try, except, else, finally block\n",
    "try:\n",
    "    n = int(input(\"Enter the number: \"))\n",
    "    re = 10/n\n",
    "except ValueError as ve:\n",
    "    print(\"Invalid input\")\n",
    "except:\n",
    "    print(\"Invalid denominator\")\n",
    "else:\n",
    "    print(\"In else block\")\n",
    "    print(re)\n",
    "finally:\n",
    "    print(\"This is to be execued always...\")"
   ]
  },
  {
   "cell_type": "code",
   "execution_count": null,
   "id": "b7ae78f5",
   "metadata": {},
   "outputs": [
    {
     "name": "stdout",
     "output_type": "stream",
     "text": [
      "This block is always executed...\n"
     ]
    },
    {
     "data": {
      "text/plain": [
       "'Given index is not in the list'"
      ]
     },
     "execution_count": 1,
     "metadata": {},
     "output_type": "execute_result"
    }
   ],
   "source": [
    "#best use case of finally block\n",
    "# here the try or except block return the value and function get terminated but finally block executed\n",
    "def func():\n",
    "    try:\n",
    "        l = [1,2,3,4]\n",
    "        n = int(input(\"Enter the index: \"))\n",
    "        return l[a]\n",
    "        \n",
    "    except Exception as e:\n",
    "        return (\"Given index is not in the list\")   \n",
    "    finally:\n",
    "        print(\"This block is always executed...\")\n",
    "func()"
   ]
  },
  {
   "cell_type": "code",
   "execution_count": null,
   "id": "96f38eed",
   "metadata": {},
   "outputs": [
    {
     "ename": "ValueError",
     "evalue": "The number is incorrect...",
     "output_type": "error",
     "traceback": [
      "\u001b[1;31m---------------------------------------------------------------------------\u001b[0m",
      "\u001b[1;31mValueError\u001b[0m                                Traceback (most recent call last)",
      "Cell \u001b[1;32mIn[4], line 6\u001b[0m\n\u001b[0;32m      4\u001b[0m a \u001b[38;5;241m=\u001b[39m \u001b[38;5;28mint\u001b[39m(\u001b[38;5;28minput\u001b[39m(\u001b[38;5;124m\"\u001b[39m\u001b[38;5;124mEnter any number b/w 1 to 10: \u001b[39m\u001b[38;5;124m\"\u001b[39m))\n\u001b[0;32m      5\u001b[0m \u001b[38;5;28;01mif\u001b[39;00m a\u001b[38;5;241m<\u001b[39m\u001b[38;5;241m1\u001b[39m \u001b[38;5;129;01mor\u001b[39;00m a\u001b[38;5;241m>\u001b[39m\u001b[38;5;241m10\u001b[39m:\n\u001b[1;32m----> 6\u001b[0m     \u001b[38;5;28;01mraise\u001b[39;00m \u001b[38;5;167;01mValueError\u001b[39;00m(\u001b[38;5;124m\"\u001b[39m\u001b[38;5;124mThe number is incorrect...\u001b[39m\u001b[38;5;124m\"\u001b[39m)\n",
      "\u001b[1;31mValueError\u001b[0m: The number is incorrect..."
     ]
    }
   ],
   "source": [
    "# CUSTOM ERRORS --> define the custom error\n",
    "# by using them, we stop program to run further if there is any error\n",
    "\n",
    "a = int(input(\"Enter any number b/w 1 to 10: \"))\n",
    "if a<1 or a>10:\n",
    "    raise ValueError(\"The number is incorrect...\")\n"
   ]
  }
 ],
 "metadata": {
  "kernelspec": {
   "display_name": "Python 3",
   "language": "python",
   "name": "python3"
  },
  "language_info": {
   "codemirror_mode": {
    "name": "ipython",
    "version": 3
   },
   "file_extension": ".py",
   "mimetype": "text/x-python",
   "name": "python",
   "nbconvert_exporter": "python",
   "pygments_lexer": "ipython3",
   "version": "3.12.0"
  }
 },
 "nbformat": 4,
 "nbformat_minor": 5
}
