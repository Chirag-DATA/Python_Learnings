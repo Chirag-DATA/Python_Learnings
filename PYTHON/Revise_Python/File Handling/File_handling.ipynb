{
 "cells": [
  {
   "cell_type": "markdown",
   "id": "56ab705d",
   "metadata": {},
   "source": [
    "### FILE HANDLING"
   ]
  },
  {
   "cell_type": "code",
   "execution_count": null,
   "id": "9158a121",
   "metadata": {},
   "outputs": [
    {
     "name": "stdout",
     "output_type": "stream",
     "text": [
      "Hello I am Chirag Mittal.\n",
      "I am writing some content in this file to \n",
      "test some file handling operations.\n",
      "Thank You\n"
     ]
    }
   ],
   "source": [
    "#reading a file whole content\n",
    "with open(\"example.txt\",mode = \"r\") as file:\n",
    "    content = file.read()\n",
    "    print(content)"
   ]
  },
  {
   "cell_type": "code",
   "execution_count": null,
   "id": "ca7adc83",
   "metadata": {},
   "outputs": [
    {
     "name": "stdout",
     "output_type": "stream",
     "text": [
      "Hello I am Chirag Mittal.\n",
      "I am writing some content in this file to\n",
      "test some file handling operations.\n",
      "Thank You\n"
     ]
    }
   ],
   "source": [
    "#reading line by line\n",
    "with open(\"example.txt\",mode = \"r\") as file:\n",
    "    for line in file:\n",
    "        print(line.strip())   #strip used to remove newline character"
   ]
  },
  {
   "cell_type": "code",
   "execution_count": 10,
   "id": "4c06ce9a",
   "metadata": {},
   "outputs": [],
   "source": [
    "#writing in a file\n",
    "with open(\"example.txt\",mode= \"w\") as f:   #entire content is over write\n",
    "    f.write(\"Hello adding new content\\n\")\n",
    "    f.write(\"This is the second line\\n\")\n"
   ]
  },
  {
   "cell_type": "code",
   "execution_count": 11,
   "id": "09049ba3",
   "metadata": {},
   "outputs": [],
   "source": [
    "#writing without over write\n",
    "with open(\"example.txt\",mode= \"a\") as f:\n",
    "    f.write(\"Hello appending new content\\n\")\n",
    "    f.write(\"This is the fourth line\")"
   ]
  },
  {
   "cell_type": "code",
   "execution_count": 13,
   "id": "e27fee73",
   "metadata": {},
   "outputs": [],
   "source": [
    "lines = [\"\\nFirst line\\n\",\"Second line\\n\",\"Third line\"]\n",
    "with open(\"example.txt\",mode= \"a\") as f:\n",
    "    f.writelines(lines)"
   ]
  },
  {
   "cell_type": "code",
   "execution_count": 15,
   "id": "bb5856f3",
   "metadata": {},
   "outputs": [],
   "source": [
    "# Binary Files\n",
    "data = b'\\x00\\x01\\x02\\x03'\n",
    "with open(\"example.bin\",mode = \"wb\") as file:\n",
    "    file.write(data)"
   ]
  },
  {
   "cell_type": "code",
   "execution_count": 16,
   "id": "a8a7b288",
   "metadata": {},
   "outputs": [
    {
     "name": "stdout",
     "output_type": "stream",
     "text": [
      "b'\\x00\\x01\\x02\\x03'\n"
     ]
    }
   ],
   "source": [
    "with open(\"example.bin\",mode = \"rb\") as file:\n",
    "    cont = file .read()\n",
    "    print(cont)"
   ]
  },
  {
   "cell_type": "markdown",
   "id": "97df66d3",
   "metadata": {},
   "source": [
    "#### Examples"
   ]
  },
  {
   "cell_type": "code",
   "execution_count": 2,
   "id": "3b494fab",
   "metadata": {},
   "outputs": [
    {
     "name": "stdout",
     "output_type": "stream",
     "text": [
      "Lines : 7\n",
      "Words : 24\n",
      "Characters : 134\n"
     ]
    }
   ],
   "source": [
    "# Reading the total lines, words, characters in the file\n",
    "def count(file_path):\n",
    "    with open(file_path,mode=\"r\") as file:\n",
    "        lines = file.readlines()\n",
    "        line_count = len(lines)\n",
    "        word_count = sum(len(line.split()) for line in lines)\n",
    "        character_count = sum(len(line) for line in lines)\n",
    "\n",
    "    return line_count, word_count, character_count\n",
    "\n",
    "file_path = \"example.txt\"\n",
    "line, words, char = count(\"example.txt\")\n",
    "print(f\"Lines : {line}\\nWords : {words}\\nCharacters : {char}\")  "
   ]
  },
  {
   "cell_type": "markdown",
   "id": "be5b6686",
   "metadata": {},
   "source": [
    "##### file.seek()\n",
    "There is one method that is file.seek() method that i used to move the cursor to the desired position.\n",
    "Whenever we are reading any file after writing then the cursor moves to the end of the file, so it will not print any content. Then we use file.seek(0) method to move the cursor to the begin of file and print the content."
   ]
  }
 ],
 "metadata": {
  "kernelspec": {
   "display_name": "Python 3",
   "language": "python",
   "name": "python3"
  },
  "language_info": {
   "codemirror_mode": {
    "name": "ipython",
    "version": 3
   },
   "file_extension": ".py",
   "mimetype": "text/x-python",
   "name": "python",
   "nbconvert_exporter": "python",
   "pygments_lexer": "ipython3",
   "version": "3.12.0"
  }
 },
 "nbformat": 4,
 "nbformat_minor": 5
}
