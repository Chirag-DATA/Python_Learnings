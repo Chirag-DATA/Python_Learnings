{
 "cells": [
  {
   "cell_type": "markdown",
   "id": "c41740fc",
   "metadata": {},
   "source": [
    "## Functions \n",
    "Increase code readability and reusability"
   ]
  },
  {
   "cell_type": "code",
   "execution_count": null,
   "id": "66e75787",
   "metadata": {},
   "outputs": [
    {
     "name": "stdout",
     "output_type": "stream",
     "text": [
      "Number is even\n"
     ]
    }
   ],
   "source": [
    "# normal function\n",
    "def check(num):\n",
    "    if num%2 == 0:\n",
    "        print(\"Number is even\")\n",
    "    else:\n",
    "        print(\"Number is odd\")\n",
    "check(24)"
   ]
  },
  {
   "cell_type": "markdown",
   "id": "14563b78",
   "metadata": {},
   "source": [
    "#### Variable Length Arguments\n",
    "can pass any number of arguments"
   ]
  },
  {
   "cell_type": "code",
   "execution_count": null,
   "id": "49f9d377",
   "metadata": {},
   "outputs": [
    {
     "name": "stdout",
     "output_type": "stream",
     "text": [
      "The sum of all the numbers you provided is:  51\n"
     ]
    }
   ],
   "source": [
    "# Positional arguments --> any number of arguments\n",
    "# Example --> to print sum of all numbers passed on function call\n",
    "def do_sum(*args):\n",
    "    sum = 0\n",
    "    for i in args:\n",
    "        sum += i\n",
    "    print(\"The sum of all the numbers you provided is: \",sum)\n",
    "do_sum(1,2,3,4,5,6,7,8,8,6,1)\n",
    "    \n"
   ]
  },
  {
   "cell_type": "code",
   "execution_count": null,
   "id": "320bef2e",
   "metadata": {},
   "outputs": [
    {
     "name": "stdout",
     "output_type": "stream",
     "text": [
      "Name:chirag\n",
      "Age:21\n"
     ]
    }
   ],
   "source": [
    "# Keyword Arguments --> pass any number of key value pair arguments\n",
    "def print_details(**kwargs):\n",
    "    for key,value in kwargs.items():\n",
    "        print(f'{key}:{value}')\n",
    "    \n",
    "print_details(Name='Chirag',Age=21)\n"
   ]
  },
  {
   "cell_type": "code",
   "execution_count": 11,
   "id": "3fc82d24",
   "metadata": {},
   "outputs": [
    {
     "name": "stdout",
     "output_type": "stream",
     "text": [
      "The positional argument is 1\n",
      "The positional argument is 2\n",
      "The positional argument is 4\n",
      "The positional argument is 6\n",
      "The positional argument is 5\n",
      "\n",
      "Printing keyword arguments...\n",
      "Name:Chirag\n",
      "Age:21\n"
     ]
    }
   ],
   "source": [
    "# when both type of argument provided in same call\n",
    "def print_details(*args,**kwargs):\n",
    "    for i in args:\n",
    "        print(f\"The positional argument is {i}\")\n",
    "\n",
    "    print()\n",
    "    print(\"Printing keyword arguments...\")\n",
    "    for key,value in kwargs.items():\n",
    "        print(f'{key}:{value}')\n",
    "\n",
    "print_details(1,2,4,6,5,Name='Chirag',Age=21)\n",
    "    "
   ]
  },
  {
   "cell_type": "markdown",
   "id": "4d18045a",
   "metadata": {},
   "source": [
    "## Some Example Functions"
   ]
  },
  {
   "cell_type": "markdown",
   "id": "1c2778ed",
   "metadata": {},
   "source": [
    "#### Temperature Converter\n",
    "This function is used to convert between Celsius and Fahrenheit"
   ]
  },
  {
   "cell_type": "code",
   "execution_count": null,
   "id": "10b82f54",
   "metadata": {},
   "outputs": [
    {
     "name": "stdout",
     "output_type": "stream",
     "text": [
      "78.8\n"
     ]
    }
   ],
   "source": [
    "def temp_convert(temp,unit):\n",
    "    if unit.upper() == \"C\":\n",
    "        return temp * 9/5 + 32\n",
    "    elif unit.upper() == \"F\": \n",
    "        return (temp-32) * 5/9\n",
    "    else:\n",
    "        print(\"Please provide the valid unit...\")\n",
    "temp = int(input(\"Enter the temperature: \"))\n",
    "unit = input(\"Enter the unit of temperature (C/F): \")\n",
    "print(temp_convert(temp,unit))"
   ]
  },
  {
   "cell_type": "markdown",
   "id": "ee45dd55",
   "metadata": {},
   "source": [
    "#### Password Strenght Checker\n",
    "This function helps to check the strength of the password"
   ]
  },
  {
   "cell_type": "code",
   "execution_count": 18,
   "id": "258aecbf",
   "metadata": {},
   "outputs": [
    {
     "name": "stdout",
     "output_type": "stream",
     "text": [
      "WEAK PASSWORD...\n",
      "WEAK PASSWORD...\n",
      "PASSWORD IS STRONG...\n"
     ]
    }
   ],
   "source": [
    "def pass_check(pas):\n",
    "    if len(pas) < 8:\n",
    "        return (\"WEAK PASSWORD...\")\n",
    "    if not any(ch.islower() for ch in pas):\n",
    "        return (\"WEAK PASSWORD...\")\n",
    "    if not any(ch.isupper() for ch in pas):\n",
    "        return (\"WEAK PASSWORD...\")\n",
    "    if not any(ch.isdigit() for ch in pas):\n",
    "        return (\"WEAK PASSWORD...\")\n",
    "    if not any(i in \"!@#$%^&*\" for i in pas):\n",
    "        return (\"WEAK PASSWORD...\")\n",
    "    \n",
    "    return (\"PASSWORD IS STRONG...\")\n",
    "\n",
    "print(pass_check(\"Password\"))\n",
    "print(pass_check(\"@Password\"))\n",
    "print(pass_check(\"Password@123\"))\n"
   ]
  },
  {
   "cell_type": "markdown",
   "id": "5da6f025",
   "metadata": {},
   "source": [
    "#### String Palindrome\n",
    "check whether given string is palindrome"
   ]
  },
  {
   "cell_type": "code",
   "execution_count": 24,
   "id": "023f2482",
   "metadata": {},
   "outputs": [
    {
     "name": "stdout",
     "output_type": "stream",
     "text": [
      "Yes it is a palindrome string\n",
      "No, it is not a palindromestring\n"
     ]
    }
   ],
   "source": [
    "def check_palindrome(st):\n",
    "    st = st.lower().replace(\" \",\"\")\n",
    "    if st == st[::-1]:\n",
    "        print(\"Yes it is a palindrome string\")\n",
    "    else:\n",
    "        print(\"No, it is not a palindromestring\")\n",
    "check_palindrome(\"A man a pan a panama\")\n",
    "check_palindrome(\"a man is in jungle\")\n"
   ]
  },
  {
   "cell_type": "markdown",
   "id": "312bfd43",
   "metadata": {},
   "source": [
    "#### Lambda Function\n",
    "Anonymous Function"
   ]
  },
  {
   "cell_type": "code",
   "execution_count": null,
   "id": "22468636",
   "metadata": {},
   "outputs": [
    {
     "data": {
      "text/plain": [
       "True"
      ]
     },
     "execution_count": 1,
     "metadata": {},
     "output_type": "execute_result"
    }
   ],
   "source": [
    "#normal function\n",
    "def even(num):\n",
    "    if num % 2 == 0:\n",
    "        return True\n",
    "even(24)"
   ]
  },
  {
   "cell_type": "code",
   "execution_count": 3,
   "id": "86b58a92",
   "metadata": {},
   "outputs": [
    {
     "data": {
      "text/plain": [
       "True"
      ]
     },
     "execution_count": 3,
     "metadata": {},
     "output_type": "execute_result"
    }
   ],
   "source": [
    "#lambda function\n",
    "even = lambda num:num%2==0\n",
    "even(24)"
   ]
  },
  {
   "cell_type": "markdown",
   "id": "42050c25",
   "metadata": {},
   "source": [
    "#### map function\n",
    "applies a given function to all items in the list"
   ]
  },
  {
   "cell_type": "code",
   "execution_count": 6,
   "id": "5ef3c0fd",
   "metadata": {},
   "outputs": [
    {
     "name": "stdout",
     "output_type": "stream",
     "text": [
      "144\n"
     ]
    }
   ],
   "source": [
    "num = [1,2,3,4,5,6]\n",
    "def square(num):\n",
    "        print(num**2)\n",
    "square(12)\n",
    "\n"
   ]
  },
  {
   "cell_type": "code",
   "execution_count": null,
   "id": "8cd32abe",
   "metadata": {},
   "outputs": [
    {
     "name": "stdout",
     "output_type": "stream",
     "text": [
      "[1, 4, 9, 16, 25, 36]\n"
     ]
    }
   ],
   "source": [
    "# in order to apply the function to all items in the list\n",
    "#lambda function with map\n",
    "lst = [1,2,3,4,5,6]\n",
    "sq = list(map(lambda x:x**2,lst))\n",
    "print(sq)\n"
   ]
  },
  {
   "cell_type": "code",
   "execution_count": 14,
   "id": "0c92524b",
   "metadata": {},
   "outputs": [
    {
     "data": {
      "text/plain": [
       "[6, 8, 10, 12]"
      ]
     },
     "execution_count": 14,
     "metadata": {},
     "output_type": "execute_result"
    }
   ],
   "source": [
    "# map function with maore iterables\n",
    "l1 = [1,2,3,4]\n",
    "l2 = [5,6,7,8]\n",
    "list(map(lambda x,y:x+y,l1,l2))"
   ]
  },
  {
   "cell_type": "markdown",
   "id": "0b563901",
   "metadata": {},
   "source": [
    "#### filter function\n",
    "used to filter out items from a list of iterables based on some condition."
   ]
  },
  {
   "cell_type": "code",
   "execution_count": 19,
   "id": "cceecfad",
   "metadata": {},
   "outputs": [
    {
     "name": "stdout",
     "output_type": "stream",
     "text": [
      "[2, 3, 5, 7, 11, 13, 17, 19, 23, 29, 31, 37, 41, 43, 47, 53, 59, 61, 67, 71, 73, 79, 83, 89, 97]\n"
     ]
    }
   ],
   "source": [
    "#list of all primes till 100\n",
    "def prime(n):\n",
    "    if n == 1:\n",
    "        return True\n",
    "    else:\n",
    "        for i in range(2,n):\n",
    "            if n%i == 0:\n",
    "                return False\n",
    "        return True\n",
    "lst = [i for i in range(2,100)]\n",
    "primes = list(filter(prime,lst))\n",
    "print(primes)"
   ]
  },
  {
   "cell_type": "markdown",
   "id": "286973bf",
   "metadata": {},
   "source": [
    "#### reduce function\n",
    "applies a function to a sequence and returns only a single element.\n",
    "Firstly import before use"
   ]
  },
  {
   "cell_type": "code",
   "execution_count": 10,
   "id": "2c785500",
   "metadata": {},
   "outputs": [
    {
     "name": "stdout",
     "output_type": "stream",
     "text": [
      "21\n"
     ]
    }
   ],
   "source": [
    "from functools import reduce\n",
    "num = [1,2,3,4,5,6]\n",
    "sum = lambda x,y: x+y\n",
    "output = reduce(sum,num)\n",
    "print(output)"
   ]
  },
  {
   "cell_type": "markdown",
   "id": "a8be1bfe",
   "metadata": {},
   "source": [
    "#### Enumerate Function\n",
    "to iterate over sequence and gives index and value at same time"
   ]
  },
  {
   "cell_type": "code",
   "execution_count": null,
   "id": "c12813ca",
   "metadata": {},
   "outputs": [
    {
     "name": "stdout",
     "output_type": "stream",
     "text": [
      "1 : Hello\n",
      "2 : My\n",
      "3 : Name\n",
      "4 : is\n",
      "5 : Chirag\n"
     ]
    }
   ],
   "source": [
    "lst = [\"Hello\",\"My\",\"Name\",\"is\",\"Chirag\"]\n",
    "for i,j in enumerate(lst,start = 1):    #start tells about the starting index, by default 0\n",
    "    print(f'{i} : {j}')"
   ]
  },
  {
   "cell_type": "code",
   "execution_count": 7,
   "id": "2f3fdbd6",
   "metadata": {},
   "outputs": [
    {
     "name": "stdout",
     "output_type": "stream",
     "text": [
      "1 : ('Name', 'Chirag')\n",
      "2 : ('Age', 21)\n"
     ]
    }
   ],
   "source": [
    "#using with dictionary\n",
    "dict = {\"Name\":\"Chirag\",\"Age\":21}\n",
    "for i,j in enumerate(dict.items(),start = 1):\n",
    "    print(i,j,sep =\" : \")"
   ]
  }
 ],
 "metadata": {
  "kernelspec": {
   "display_name": "Python 3",
   "language": "python",
   "name": "python3"
  },
  "language_info": {
   "codemirror_mode": {
    "name": "ipython",
    "version": 3
   },
   "file_extension": ".py",
   "mimetype": "text/x-python",
   "name": "python",
   "nbconvert_exporter": "python",
   "pygments_lexer": "ipython3",
   "version": "3.12.0"
  }
 },
 "nbformat": 4,
 "nbformat_minor": 5
}
