{
 "cells": [
  {
   "cell_type": "markdown",
   "id": "b8d78c14",
   "metadata": {},
   "source": [
    "### Great to revise the PYTHON"
   ]
  },
  {
   "cell_type": "code",
   "execution_count": 1,
   "id": "9e93744f",
   "metadata": {},
   "outputs": [
    {
     "name": "stdout",
     "output_type": "stream",
     "text": [
      "Starting my Data Analytics Journey...\n"
     ]
    }
   ],
   "source": [
    "print(\"Starting my Data Analytics Journey...\")"
   ]
  },
  {
   "cell_type": "code",
   "execution_count": 3,
   "id": "00ee6a2a",
   "metadata": {},
   "outputs": [
    {
     "name": "stdout",
     "output_type": "stream",
     "text": [
      "Sum is: 30\n",
      "Difference is: 18\n",
      "Product is: 144\n",
      "Division is: 4.0\n"
     ]
    }
   ],
   "source": [
    "#Basic Calculator\n",
    "\n",
    "num1 = int(input(\"Enter the first number: \"))\n",
    "num2 = int(input(\"Enter the second number: \"))\n",
    "\n",
    "sum = num1 + num2\n",
    "diff = num1 - num2\n",
    "product = num1 * num2\n",
    "div = num1/num2\n",
    "\n",
    "print(\"Sum is:\",sum)\n",
    "print(\"Difference is:\",diff)\n",
    "print(\"Product is:\",product)\n",
    "print(\"Division is:\",div)\n"
   ]
  },
  {
   "cell_type": "markdown",
   "id": "da4ade97",
   "metadata": {},
   "source": [
    "#### List Comprehension"
   ]
  },
  {
   "cell_type": "code",
   "execution_count": null,
   "id": "d8d42aa3",
   "metadata": {},
   "outputs": [
    {
     "name": "stdout",
     "output_type": "stream",
     "text": [
      "[0, 1, 4, 9, 16, 25, 36, 49, 64, 81]\n"
     ]
    }
   ],
   "source": [
    "# normal list\n",
    "\n",
    "squares = [x**2 for x in range(10)]\n",
    "print(squares)"
   ]
  },
  {
   "cell_type": "code",
   "execution_count": null,
   "id": "b9224c4b",
   "metadata": {},
   "outputs": [
    {
     "name": "stdout",
     "output_type": "stream",
     "text": [
      "[0, 4, 16, 36, 64]\n"
     ]
    }
   ],
   "source": [
    "# list comprehension with conditioj\n",
    "\n",
    "even_square = [num**2 for num in range(10) if num%2==0]\n",
    "print(even_square)"
   ]
  },
  {
   "cell_type": "code",
   "execution_count": null,
   "id": "c92a7a9a",
   "metadata": {},
   "outputs": [
    {
     "name": "stdout",
     "output_type": "stream",
     "text": [
      "[[1, 'a'], [1, 'b'], [1, 'c'], [1, 'd'], [1, 'e'], [2, 'a'], [2, 'b'], [2, 'c'], [2, 'd'], [2, 'e'], [3, 'a'], [3, 'b'], [3, 'c'], [3, 'd'], [3, 'e'], [4, 'a'], [4, 'b'], [4, 'c'], [4, 'd'], [4, 'e'], [5, 'a'], [5, 'b'], [5, 'c'], [5, 'd'], [5, 'e']]\n"
     ]
    }
   ],
   "source": [
    "#list comprehension with nested loops\n",
    "l1 = [1,2,3,4,5]\n",
    "l2 = ['a','b','c','d','e']\n",
    "set_num = [[i,j] for i in l1 for j in l2] \n",
    "print(set_num)"
   ]
  },
  {
   "cell_type": "code",
   "execution_count": null,
   "id": "57ea41f8",
   "metadata": {},
   "outputs": [
    {
     "name": "stdout",
     "output_type": "stream",
     "text": [
      "[5, 6, 6, 10, 5]\n"
     ]
    }
   ],
   "source": [
    "# list comprehension with function call\n",
    "fruits = [\"apple\",\"banana\",\"cherry\",\"strawberry\",\"mango\"]\n",
    "lst = [len(word) for word in fruits]\n",
    "print(lst)\n",
    "       "
   ]
  },
  {
   "cell_type": "markdown",
   "id": "23abf9db",
   "metadata": {},
   "source": [
    "#### TUPLES"
   ]
  },
  {
   "cell_type": "code",
   "execution_count": 1,
   "id": "551d83e9",
   "metadata": {},
   "outputs": [
    {
     "name": "stdout",
     "output_type": "stream",
     "text": [
      "4\n",
      "1\n"
     ]
    }
   ],
   "source": [
    "#SOME Methods\n",
    "\n",
    "tpl = (4,5,6,4,9,4,6,4)\n",
    "print(tpl.count(4))\n",
    "print(tpl.index(5))"
   ]
  },
  {
   "cell_type": "code",
   "execution_count": null,
   "id": "15202862",
   "metadata": {},
   "outputs": [
    {
     "name": "stdout",
     "output_type": "stream",
     "text": [
      "(1, 5, 4)\n"
     ]
    }
   ],
   "source": [
    "#packing the tuple --> automatically packs the tuple\n",
    "\n",
    "tpl = 1,5,4\n",
    "print(tpl)\n"
   ]
  },
  {
   "cell_type": "code",
   "execution_count": 4,
   "id": "fc4a073b",
   "metadata": {},
   "outputs": [
    {
     "name": "stdout",
     "output_type": "stream",
     "text": [
      "1 2 hello\n"
     ]
    }
   ],
   "source": [
    "#unpacking the tuple\n",
    "tpl = (1,2,\"hello\")\n",
    "a,b,c = tpl\n",
    "print(a,b,c)"
   ]
  },
  {
   "cell_type": "code",
   "execution_count": 10,
   "id": "7f117b72",
   "metadata": {},
   "outputs": [
    {
     "name": "stdout",
     "output_type": "stream",
     "text": [
      "1\n",
      "[2, 'hello world', 'chirag', 3.14]\n",
      "True\n"
     ]
    }
   ],
   "source": [
    "#second method to unpack tuple\n",
    "tpl = (1,2,\"hello world\",\"chirag\",3.14,True)\n",
    "first, *middle, last = tpl\n",
    "print(first)\n",
    "print(middle)\n",
    "print(last)"
   ]
  },
  {
   "cell_type": "markdown",
   "id": "8da77b28",
   "metadata": {},
   "source": [
    "#### SETS"
   ]
  },
  {
   "cell_type": "code",
   "execution_count": null,
   "id": "b8d7de88",
   "metadata": {},
   "outputs": [
    {
     "name": "stdout",
     "output_type": "stream",
     "text": [
      "{1, 3, 4, 5, 6, 7, 8, 9}\n",
      "{3, 4, 5, 6, 7, 8, 9}\n",
      "set()\n"
     ]
    }
   ],
   "source": [
    "#to delete elements from the set\n",
    "\n",
    "s = {1,2,3,4,5,6,7,8,9}\n",
    "s.remove(2)               #delete the specified element\n",
    "print(s)\n",
    "\n",
    "s.pop()                  #delete the first element \n",
    "print(s)\n",
    "\n",
    "s.clear()                #delete the whole set\n",
    "print(s)"
   ]
  },
  {
   "cell_type": "code",
   "execution_count": null,
   "id": "714abc2f",
   "metadata": {},
   "outputs": [
    {
     "name": "stdout",
     "output_type": "stream",
     "text": [
      "{1, 2, 3, 4, 5, 6, 7, 8, 9}\n",
      "{4, 5, 6}\n",
      "{4, 5, 6}\n",
      "{1, 2, 3}\n",
      "{1, 2, 3, 7, 8, 9}\n"
     ]
    }
   ],
   "source": [
    "#Mathematical operations\n",
    "s1 = {1,2,3,4,5,6}\n",
    "s2 = {4,5,6,7,8,9}\n",
    "\n",
    "#union \n",
    "s = s1.union(s2)\n",
    "print(s)\n",
    "\n",
    "#intersection and intersection_update\n",
    "\n",
    "s = s1.intersection(s2)  #not update the existing set \n",
    "print(s)\n",
    "\n",
    "s1.intersection_update(s2)   #updates the existing set\n",
    "print(s1)\n",
    "\n",
    "s1 = {1,2,3,4,5,6}\n",
    "s2 = {4,5,6,7,8,9}\n",
    "\n",
    "diff = s1.difference(s2)\n",
    "print(diff)\n",
    "\n",
    "s1.difference_update(s2)    #update the set  \n",
    "s1\n",
    "\n",
    "s1 = {1,2,3,4,5,6}\n",
    "s2 = {4,5,6,7,8,9}\n",
    "\n",
    "print(s1.symmetric_difference(s2)) #eliminates the common elements from both set and print the unique element set\n"
   ]
  },
  {
   "cell_type": "code",
   "execution_count": 20,
   "id": "63d7a9f1",
   "metadata": {},
   "outputs": [
    {
     "name": "stdout",
     "output_type": "stream",
     "text": [
      "unique words are:  {'nature', 'who', 'to', 'person', 'I', 'is', 'am', 'explore', 'the'}\n",
      "The total unique words are:  9\n"
     ]
    }
   ],
   "source": [
    "#counting the unique words in an sentence\n",
    "str = \"I am the person who is the person to explore the nature\"\n",
    "s = str.split(\" \")\n",
    "s1 = set(s)\n",
    "print(\"unique words are: \",s1)\n",
    "print(\"The total unique words are: \",len(s1))"
   ]
  },
  {
   "cell_type": "markdown",
   "id": "8b3eb32e",
   "metadata": {},
   "source": [
    "#### Dictionary"
   ]
  },
  {
   "cell_type": "code",
   "execution_count": null,
   "id": "09b01a6c",
   "metadata": {},
   "outputs": [
    {
     "name": "stdout",
     "output_type": "stream",
     "text": [
      "dict_keys(['name', 'age', 'address'])\n",
      "dict_values(['chirag', 21, 'India'])\n",
      "dict_items([('name', 'chirag'), ('age', 21), ('address', 'India')])\n"
     ]
    }
   ],
   "source": [
    "student = {\"name\":\"chirag\",\"age\":21,\"address\":\"India\"}\n",
    "\n",
    "print(student.keys())   #to get all the keys\n",
    "print(student.values()) #to get all the values \n",
    "print(student.items())  #to get all the elements as pair in list"
   ]
  },
  {
   "cell_type": "code",
   "execution_count": 3,
   "id": "ec319fca",
   "metadata": {},
   "outputs": [
    {
     "name": "stdout",
     "output_type": "stream",
     "text": [
      "{'name': 'Mittal', 'age': 21, 'address': 'India'}\n",
      "{'name': 'chirag', 'age': 21, 'address': 'India'}\n"
     ]
    }
   ],
   "source": [
    "#shallow copy --> change in one doesn't reflect to its copy\n",
    "\n",
    "student_copy = student.copy()\n",
    "student[\"name\"] = \"Mittal\"\n",
    "print(student)\n",
    "print(student_copy)"
   ]
  },
  {
   "cell_type": "code",
   "execution_count": 6,
   "id": "9109a0e1",
   "metadata": {},
   "outputs": [
    {
     "name": "stdout",
     "output_type": "stream",
     "text": [
      "name\n",
      "age\n",
      "address\n",
      "\n",
      "Mittal\n",
      "21\n",
      "India\n",
      "\n",
      "name Mittal\n",
      "age 21\n",
      "address India\n"
     ]
    }
   ],
   "source": [
    "# Iterate over keys\n",
    "for key in student.keys():\n",
    "    print(key)\n",
    "\n",
    "print()\n",
    "\n",
    "# Iterate over values \n",
    "for value in student.values():\n",
    "    print(value) \n",
    "\n",
    "print()\n",
    "\n",
    "# Iterate over key and value pairs\n",
    "for key,value in student.items():\n",
    "    print(key,value,sep=\" \")"
   ]
  },
  {
   "cell_type": "code",
   "execution_count": 11,
   "id": "482b13f0",
   "metadata": {},
   "outputs": [
    {
     "name": "stdout",
     "output_type": "stream",
     "text": [
      "chirag\n",
      "22\n"
     ]
    }
   ],
   "source": [
    "# Nested Dictionaries\n",
    "students = {\n",
    "    \"student1\": {\"name\": \"chirag\", \"age\": 21},\n",
    "    \"student2\": {\"name\": \"john\", \"age\": 22}\n",
    "}\n",
    "\n",
    "print(students[\"student1\"][\"name\"])\n",
    "print(students[\"student2\"][\"age\"])"
   ]
  },
  {
   "cell_type": "code",
   "execution_count": 12,
   "id": "d6cdbe6d",
   "metadata": {},
   "outputs": [
    {
     "name": "stdout",
     "output_type": "stream",
     "text": [
      "student1:{'name': 'chirag', 'age': 21}\n",
      "name:chirag\n",
      "age:21\n",
      "student2:{'name': 'john', 'age': 22}\n",
      "name:john\n",
      "age:22\n"
     ]
    }
   ],
   "source": [
    "#Iterate over nested dictionaries\n",
    "for student_id,student_info in students.items():\n",
    "    print(f\"{student_id}:{student_info}\")\n",
    "    for key,value in student_info.items():\n",
    "        print(f'{key}:{value}')"
   ]
  },
  {
   "cell_type": "code",
   "execution_count": 14,
   "id": "b63cefed",
   "metadata": {},
   "outputs": [
    {
     "name": "stdout",
     "output_type": "stream",
     "text": [
      "{0: 0, 1: 1, 2: 4, 3: 9, 4: 16, 5: 25, 6: 36, 7: 49, 8: 64, 9: 81}\n",
      "{0: 0, 2: 4, 4: 16, 6: 36, 8: 64}\n"
     ]
    }
   ],
   "source": [
    "#Dictionary comprehension\n",
    "\n",
    "dict_squares = {x:x**2 for x in range(10)}\n",
    "print(dict_squares)\n",
    "\n",
    "dict_even_squares = {x:x**2 for x in range(10) if x%2==0}\n",
    "print(dict_even_squares)"
   ]
  },
  {
   "cell_type": "code",
   "execution_count": 16,
   "id": "731f0bd2",
   "metadata": {},
   "outputs": [
    {
     "name": "stdout",
     "output_type": "stream",
     "text": [
      "{1: 1, 2: 2, 3: 3, 4: 4, 5: 5, 6: 6}\n"
     ]
    }
   ],
   "source": [
    "#Problem --> count frequency of number in the list\n",
    "l = [1,2,2,3,3,3,4,4,4,4,5,5,5,5,5,6,6,6,6,6,6]\n",
    "freq = {}\n",
    "for num in l:\n",
    "    if num in freq:\n",
    "        freq[num] += 1\n",
    "    else:\n",
    "        freq[num] = 1\n",
    "print(freq)"
   ]
  },
  {
   "cell_type": "code",
   "execution_count": 28,
   "id": "945f0a14",
   "metadata": {},
   "outputs": [
    {
     "name": "stdout",
     "output_type": "stream",
     "text": [
      "{'name': 'chirag', 'age': 21, 'address': 'India', 'state': 'U.P'}\n"
     ]
    }
   ],
   "source": [
    "#problem --> merge two dictionaries into one\n",
    "student1 = {\"name\": \"chirag\", \"age\": 21}\n",
    "student2 = {\"address\": \"India\", \"state\": \"U.P\"}\n",
    "\n",
    "merged = {**student1, **student2}\n",
    "print(merged)"
   ]
  }
 ],
 "metadata": {
  "kernelspec": {
   "display_name": "Python 3",
   "language": "python",
   "name": "python3"
  },
  "language_info": {
   "codemirror_mode": {
    "name": "ipython",
    "version": 3
   },
   "file_extension": ".py",
   "mimetype": "text/x-python",
   "name": "python",
   "nbconvert_exporter": "python",
   "pygments_lexer": "ipython3",
   "version": "3.12.0"
  }
 },
 "nbformat": 4,
 "nbformat_minor": 5
}
