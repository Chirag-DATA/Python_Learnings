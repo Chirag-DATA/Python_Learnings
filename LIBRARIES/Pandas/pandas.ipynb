{
 "cells": [
  {
   "cell_type": "markdown",
   "id": "0281e337",
   "metadata": {},
   "source": [
    "To read from json files\n",
    "df = pd.read_json(\"details.json\")\n",
    "print(df)"
   ]
  },
  {
   "cell_type": "code",
   "execution_count": 3,
   "id": "f05dcb3c",
   "metadata": {},
   "outputs": [
    {
     "name": "stdout",
     "output_type": "stream",
     "text": [
      "    OrderID Product Quantity   Price   Total Customer        Date\n",
      "0     101.0   Shirt        3  2000.0  6000.0      NaN  17-08-2025\n",
      "1     102.0   Watch        2  2000.0  4000.0  Charlie  2025/09/02\n",
      "2     103.0   Watch      NaN     NaN     NaN      Eve  08-08-2025\n",
      "3     104.0     Bag        4  1500.0  6000.0      NaN  2025-08-15\n",
      "4     105.0   Watch        1  1500.0  1500.0    David  2025/08/01\n",
      "..      ...     ...      ...     ...     ...      ...         ...\n",
      "95    196.0   Shoes    Three   500.0     NaN  Charlie  2025/08/28\n",
      "96    197.0   Shoes      NaN  1500.0     NaN    Grace  2025/08/24\n",
      "97    198.0   Shirt        1     NaN     NaN    David  10-08-2025\n",
      "98      NaN   Watch        5  1500.0  7500.0      Bob  2025-08-30\n",
      "99    200.0   Shirt        4   500.0  2000.0  Charlie  2025-09-03\n",
      "\n",
      "[100 rows x 7 columns]\n"
     ]
    }
   ],
   "source": [
    "#to read from csv files\n",
    "import pandas as pd\n",
    "df = pd.read_csv(\"sales_data.csv\")\n",
    "print(df)"
   ]
  },
  {
   "cell_type": "code",
   "execution_count": 9,
   "id": "cbb555e9",
   "metadata": {},
   "outputs": [
    {
     "name": "stdout",
     "output_type": "stream",
     "text": [
      "The first 5 rows are :\n",
      "   OrderID Product Quantity   Price   Total Customer        Date\n",
      "0    101.0   Shirt        3  2000.0  6000.0      NaN  17-08-2025\n",
      "1    102.0   Watch        2  2000.0  4000.0  Charlie  2025/09/02\n",
      "2    103.0   Watch      NaN     NaN     NaN      Eve  08-08-2025\n",
      "3    104.0     Bag        4  1500.0  6000.0      NaN  2025-08-15\n",
      "4    105.0   Watch        1  1500.0  1500.0    David  2025/08/01\n",
      "The last 5 rows are :\n",
      "    OrderID Product Quantity   Price   Total Customer        Date\n",
      "95    196.0   Shoes    Three   500.0     NaN  Charlie  2025/08/28\n",
      "96    197.0   Shoes      NaN  1500.0     NaN    Grace  2025/08/24\n",
      "97    198.0   Shirt        1     NaN     NaN    David  10-08-2025\n",
      "98      NaN   Watch        5  1500.0  7500.0      Bob  2025-08-30\n",
      "99    200.0   Shirt        4   500.0  2000.0  Charlie  2025-09-03\n",
      "\n",
      " The Information about the data is as below : \n",
      "\n",
      "<class 'pandas.core.frame.DataFrame'>\n",
      "RangeIndex: 100 entries, 0 to 99\n",
      "Data columns (total 7 columns):\n",
      " #   Column    Non-Null Count  Dtype  \n",
      "---  ------    --------------  -----  \n",
      " 0   OrderID   95 non-null     float64\n",
      " 1   Product   100 non-null    object \n",
      " 2   Quantity  84 non-null     object \n",
      " 3   Price     84 non-null     float64\n",
      " 4   Total     50 non-null     float64\n",
      " 5   Customer  82 non-null     object \n",
      " 6   Date      100 non-null    object \n",
      "dtypes: float64(3), object(4)\n",
      "memory usage: 5.6+ KB\n",
      "None\n"
     ]
    }
   ],
   "source": [
    "#understanding our data\n",
    "\n",
    "df = pd.read_csv(\"sales_data.csv\")\n",
    "print(f'The first 5 rows are :\\n{df.head(5)}')              #to print first 5 rows\n",
    "print(f'The last 5 rows are :\\n{df.tail(5)}')              #to print last 5 rows\n",
    "print(\"\\n The Information about the data is as below : \\n\")\n",
    "print(df.info())               #to display the summarised info of dataset"
   ]
  },
  {
   "cell_type": "code",
   "execution_count": 7,
   "id": "1b6f2b7f",
   "metadata": {},
   "outputs": [
    {
     "name": "stdout",
     "output_type": "stream",
     "text": [
      "          OrderID        Price         Total\n",
      "count   95.000000    84.000000     50.000000\n",
      "mean   149.894737  1220.238095   3608.000000\n",
      "std     28.906479   603.958780   2612.125571\n",
      "min    101.000000   500.000000    500.000000\n",
      "25%    125.000000   500.000000   1500.000000\n",
      "50%    150.000000  1500.000000   2650.000000\n",
      "75%    174.500000  1625.000000   6000.000000\n",
      "max    200.000000  2000.000000  10000.000000\n"
     ]
    }
   ],
   "source": [
    "#to display the descriptive stats of numerical data columns\n",
    "#datasets read from above\n",
    "print(df.describe())"
   ]
  },
  {
   "cell_type": "code",
   "execution_count": null,
   "id": "65157c59",
   "metadata": {},
   "outputs": [
    {
     "name": "stdout",
     "output_type": "stream",
     "text": [
      "The shape of dataset is : (100, 7)\n",
      "The columns in dataset are : Index(['OrderID', 'Product', 'Quantity', 'Price', 'Total', 'Customer', 'Date'], dtype='object')\n"
     ]
    }
   ],
   "source": [
    "#some attributes to know about dataset\n",
    "\n",
    "data = pd.read_csv(\"sales_data.csv\")\n",
    "print(f'The shape of dataset is : {data.shape}')    #for shape (row x columns)\n",
    "print(f'The columns in dataset are : {data.columns}')  #for columns name"
   ]
  },
  {
   "cell_type": "code",
   "execution_count": null,
   "id": "f9ab1b5b",
   "metadata": {},
   "outputs": [
    {
     "name": "stdout",
     "output_type": "stream",
     "text": [
      "Printing single column :\n",
      "0     2000.0\n",
      "1     2000.0\n",
      "2        NaN\n",
      "3     1500.0\n",
      "4     1500.0\n",
      "       ...  \n",
      "95     500.0\n",
      "96    1500.0\n",
      "97       NaN\n",
      "98    1500.0\n",
      "99     500.0\n",
      "Name: Price, Length: 100, dtype: float64\n",
      "\n",
      "Printing multiple columns :\n",
      "     Price Customer\n",
      "0   2000.0      NaN\n",
      "1   2000.0  Charlie\n",
      "2      NaN      Eve\n",
      "3   1500.0      NaN\n",
      "4   1500.0    David\n",
      "..     ...      ...\n",
      "95   500.0  Charlie\n",
      "96  1500.0    Grace\n",
      "97     NaN    David\n",
      "98  1500.0      Bob\n",
      "99   500.0  Charlie\n",
      "\n",
      "[100 rows x 2 columns]\n"
     ]
    }
   ],
   "source": [
    "#selecting specific columns\n",
    "\n",
    "df = pd.read_csv(\"sales_data.csv\")\n",
    "print(f'Printing single column :\\n{df['Price']}')      #displays only price column\n",
    "print(\"\\nPrinting multiple columns :\")\n",
    "columns = df[['Price','Customer']]                     #displays multiple columns\n",
    "print(columns)"
   ]
  },
  {
   "cell_type": "code",
   "execution_count": 23,
   "id": "53521640",
   "metadata": {},
   "outputs": [
    {
     "name": "stdout",
     "output_type": "stream",
     "text": [
      "Sales data for price of Rs 500 :\n",
      "\n",
      "    OrderID Product Quantity  Price   Total Customer        Date\n",
      "9     110.0   Watch        1  500.0   500.0    Alice  2025/09/10\n",
      "17    118.0   Watch        3  500.0  1500.0  Charlie  2025-08-23\n",
      "21    122.0     Bag        5  500.0  2500.0    Alice  2025/08/21\n",
      "22    123.0    Belt        1  500.0   500.0    Grace  2025/09/05\n",
      "23    124.0     Cap      NaN  500.0     NaN      Eve  16-09-2025\n",
      "39    140.0     Bag      NaN  500.0     NaN      NaN  2025-09-06\n",
      "41    142.0     Cap      NaN  500.0     NaN      NaN  2025-08-05\n",
      "42    143.0    Belt        3  500.0  1500.0    Frank  12-08-2025\n",
      "53    154.0     Cap        4  500.0  2000.0    Frank  2025/09/15\n",
      "60    161.0    Belt        5  500.0  2500.0    Grace  2025/08/16\n",
      "62    163.0     Bag        2  500.0  1000.0    Alice  15-08-2025\n",
      "69      NaN     Cap        1  500.0     NaN  Charlie  14-08-2025\n",
      "73    174.0    Belt        2  500.0  1000.0    Grace  2025-09-18\n",
      "77    178.0   Watch        4  500.0  2000.0      Bob  19-08-2025\n",
      "78    179.0   Shirt        4  500.0  2000.0    Frank  2025-09-02\n",
      "79    180.0   Watch        5  500.0  2500.0      NaN  2025/08/05\n",
      "81    182.0     Cap        2  500.0  1000.0      NaN  08-08-2025\n",
      "84    185.0   Shoes        1  500.0     NaN      Eve  2025/08/01\n",
      "87    188.0   Shirt    Three  500.0     NaN    Frank  2025-08-28\n",
      "93    194.0   Shoes    Three  500.0     NaN      Eve  2025-09-18\n",
      "95    196.0   Shoes    Three  500.0     NaN  Charlie  2025/08/28\n",
      "99    200.0   Shirt        4  500.0  2000.0  Charlie  2025-09-03\n"
     ]
    }
   ],
   "source": [
    "#selecting some specific rows that are following specific condition\n",
    "\n",
    "#single condition\n",
    "df = pd.read_csv(\"sales_data.csv\")\n",
    "row_filtered = df[df[\"Price\"] == 500]\n",
    "print(\"Sales data for price of Rs 500 :\\n\")\n",
    "print(row_filtered)"
   ]
  },
  {
   "cell_type": "code",
   "execution_count": 31,
   "id": "29c1f13a",
   "metadata": {},
   "outputs": [
    {
     "name": "stdout",
     "output_type": "stream",
     "text": [
      "    OrderID Product Quantity  Price   Total Customer        Date\n",
      "42    143.0    Belt        3  500.0  1500.0    Frank  12-08-2025\n",
      "53    154.0     Cap        4  500.0  2000.0    Frank  2025/09/15\n",
      "78    179.0   Shirt        4  500.0  2000.0    Frank  2025-09-02\n",
      "87    188.0   Shirt    Three  500.0     NaN    Frank  2025-08-28\n"
     ]
    }
   ],
   "source": [
    "#for multiple condition\n",
    "\n",
    "rows = df[(df[\"Price\"] == 500) & (df[\"Customer\"] == \"Frank\")]\n",
    "print(rows)"
   ]
  }
 ],
 "metadata": {
  "kernelspec": {
   "display_name": "Python 3",
   "language": "python",
   "name": "python3"
  },
  "language_info": {
   "codemirror_mode": {
    "name": "ipython",
    "version": 3
   },
   "file_extension": ".py",
   "mimetype": "text/x-python",
   "name": "python",
   "nbconvert_exporter": "python",
   "pygments_lexer": "ipython3",
   "version": "3.12.0"
  }
 },
 "nbformat": 4,
 "nbformat_minor": 5
}
