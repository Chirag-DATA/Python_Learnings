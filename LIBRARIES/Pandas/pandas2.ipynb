{
 "cells": [
  {
   "cell_type": "code",
   "execution_count": 1,
   "id": "17ebdccc",
   "metadata": {},
   "outputs": [
    {
     "name": "stdout",
     "output_type": "stream",
     "text": [
      "        Name  Age  Salary       City\n",
      "0        Ram   25   20000      Delhi\n",
      "1      Shyam   26   30000     Meerut\n",
      "2  Ghanshyam   25   35000       Pune\n",
      "3       Sita   28   25000      Noida\n",
      "4      Geeta   27   22000   Gurugram\n",
      "5      Mohan   29   33000  Ghaziabad\n",
      "6     Chirag   23   40000     Meerut\n"
     ]
    }
   ],
   "source": [
    "#creating a dataset to be used for further examples\n",
    "import pandas as pd\n",
    "data = {\n",
    "    \"Name\" : [\"Ram\",\"Shyam\",\"Ghanshyam\",\"Sita\",\"Geeta\",\"Mohan\",\"Chirag\"],\n",
    "    \"Age\" : [25,26,25,28,27,29,23],\n",
    "    \"Salary\" : [20000,30000,35000,25000,22000,33000,40000],\n",
    "    \"City\" : [\"Delhi\",\"Meerut\",\"Pune\",\"Noida\",\"Gurugram\",\"Ghaziabad\",\"Meerut\"]\n",
    "}\n",
    "df = pd.DataFrame(data)\n",
    "print(df)"
   ]
  },
  {
   "cell_type": "markdown",
   "id": "91974f87",
   "metadata": {},
   "source": [
    "#### MODIFICATION IN DATAFRAME"
   ]
  },
  {
   "cell_type": "code",
   "execution_count": 9,
   "id": "086a7d06",
   "metadata": {},
   "outputs": [
    {
     "name": "stdout",
     "output_type": "stream",
     "text": [
      "        Name  Age  Salary       City   Bonus\n",
      "0        Ram   25   20000      Delhi  1000.0\n",
      "1      Shyam   26   30000     Meerut  1500.0\n",
      "2  Ghanshyam   25   35000       Pune  1750.0\n",
      "3       Sita   28   25000      Noida  1250.0\n",
      "4      Geeta   27   22000   Gurugram  1100.0\n",
      "5      Mohan   29   33000  Ghaziabad  1650.0\n",
      "6     Chirag   23   40000     Meerut  2000.0\n"
     ]
    }
   ],
   "source": [
    "#to add any new column in DataFrame\n",
    "df[\"Bonus\"] = df[\"Salary\"] * 0.05\n",
    "print(df)"
   ]
  },
  {
   "cell_type": "code",
   "execution_count": 11,
   "id": "48fe8fde",
   "metadata": {},
   "outputs": [
    {
     "name": "stdout",
     "output_type": "stream",
     "text": [
      "        Name  Age  Salary  Total_Salary       City   Bonus\n",
      "0        Ram   25   20000       21000.0      Delhi  1000.0\n",
      "1      Shyam   26   30000       31500.0     Meerut  1500.0\n",
      "2  Ghanshyam   25   35000       36750.0       Pune  1750.0\n",
      "3       Sita   28   25000       26250.0      Noida  1250.0\n",
      "4      Geeta   27   22000       23100.0   Gurugram  1100.0\n",
      "5      Mohan   29   33000       34650.0  Ghaziabad  1650.0\n",
      "6     Chirag   23   40000       42000.0     Meerut  2000.0\n"
     ]
    }
   ],
   "source": [
    "#to insert at specific location\n",
    "idx = 3\n",
    "new_col = \"Total_Salary\"\n",
    "new_data = df[\"Salary\"] + df[\"Bonus\"]\n",
    "df.insert(idx,new_col,new_data)\n",
    "print(df)"
   ]
  },
  {
   "cell_type": "code",
   "execution_count": 12,
   "id": "38012917",
   "metadata": {},
   "outputs": [
    {
     "name": "stdout",
     "output_type": "stream",
     "text": [
      "        Name  Age  Salary       City   Bonus\n",
      "0        Ram   25   20000      Delhi  1000.0\n",
      "1      Shyam   26   30000     Meerut  1500.0\n",
      "2  Ghanshyam   25   35000       Pune  1750.0\n",
      "3       Sita   28   25000      Noida  1250.0\n",
      "4      Geeta   27   22000   Gurugram  1100.0\n",
      "5      Mohan   29   33000  Ghaziabad  1650.0\n",
      "6     Chirag   23   40000     Meerut  2000.0\n"
     ]
    }
   ],
   "source": [
    "#to remove specific column or columns\n",
    "df.drop(columns = [\"Total_Salary\"], inplace =True)\n",
    "print(df)"
   ]
  },
  {
   "cell_type": "code",
   "execution_count": 13,
   "id": "e1bdf3cf",
   "metadata": {},
   "outputs": [
    {
     "name": "stdout",
     "output_type": "stream",
     "text": [
      "        Name  Age  Salary       City   Bonus\n",
      "0        Ram   25   20000      Delhi  2000.0\n",
      "1      Shyam   26   30000     Meerut  1500.0\n",
      "2  Ghanshyam   25   35000       Pune  1750.0\n",
      "3       Sita   28   25000      Noida  1250.0\n",
      "4      Geeta   27   22000   Gurugram  1100.0\n",
      "5      Mohan   29   33000  Ghaziabad  1650.0\n",
      "6     Chirag   23   40000     Meerut  2000.0\n"
     ]
    }
   ],
   "source": [
    "# to update any specific value \n",
    "df.loc[0,\"Bonus\"] = 2000   #updated Ram's bonus\n",
    "print(df)"
   ]
  },
  {
   "cell_type": "code",
   "execution_count": 14,
   "id": "70a0c9e8",
   "metadata": {},
   "outputs": [
    {
     "name": "stdout",
     "output_type": "stream",
     "text": [
      "        Name  Age  Salary       City   Bonus\n",
      "0        Ram   25   20000      Delhi  2000.0\n",
      "1      Shyam   26   30000     Meerut  3000.0\n",
      "2  Ghanshyam   25   35000       Pune  3500.0\n",
      "3       Sita   28   25000      Noida  2500.0\n",
      "4      Geeta   27   22000   Gurugram  2200.0\n",
      "5      Mohan   29   33000  Ghaziabad  3300.0\n",
      "6     Chirag   23   40000     Meerut  4000.0\n"
     ]
    }
   ],
   "source": [
    "# to update the values of whole column\n",
    "df[\"Bonus\"] = df[\"Salary\"] * 0.1         #updated bonus of all\n",
    "print(df)"
   ]
  }
 ],
 "metadata": {
  "kernelspec": {
   "display_name": "Python 3",
   "language": "python",
   "name": "python3"
  },
  "language_info": {
   "codemirror_mode": {
    "name": "ipython",
    "version": 3
   },
   "file_extension": ".py",
   "mimetype": "text/x-python",
   "name": "python",
   "nbconvert_exporter": "python",
   "pygments_lexer": "ipython3",
   "version": "3.12.0"
  }
 },
 "nbformat": 4,
 "nbformat_minor": 5
}
