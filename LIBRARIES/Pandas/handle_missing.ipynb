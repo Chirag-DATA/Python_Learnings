{
 "cells": [
  {
   "cell_type": "markdown",
   "id": "3b61e0b1",
   "metadata": {},
   "source": [
    "#### HANDLING MISSING VALUES"
   ]
  },
  {
   "cell_type": "markdown",
   "id": "4fccb0ee",
   "metadata": {},
   "source": [
    "#### To Check the missing data"
   ]
  },
  {
   "cell_type": "code",
   "execution_count": 38,
   "id": "5606a476",
   "metadata": {},
   "outputs": [
    {
     "name": "stdout",
     "output_type": "stream",
     "text": [
      "        Name  Age   Salary       City\n",
      "0        Ram   25  20000.0      Delhi\n",
      "1       None   26  30000.0     Meerut\n",
      "2  Ghanshyam   25  35000.0       Pune\n",
      "3       Sita   20  25000.0       None\n",
      "4      Geeta   27  22000.0   Gurugram\n",
      "5      Mohan   29      NaN  Ghaziabad\n",
      "6     Chirag   23  40000.0     Meerut\n"
     ]
    }
   ],
   "source": [
    "#creating a dataset to be used for further examples\n",
    "import pandas as pd\n",
    "data = {\n",
    "    \"Name\" : [\"Ram\",None,\"Ghanshyam\",\"Sita\",\"Geeta\",\"Mohan\",\"Chirag\"],\n",
    "    \"Age\" : [25,26,25,20,27,29,23],\n",
    "    \"Salary\" : [20000,30000,35000,25000,22000,None,40000],\n",
    "    \"City\" : [\"Delhi\",\"Meerut\",\"Pune\",None,\"Gurugram\",\"Ghaziabad\",\"Meerut\"]\n",
    "}\n",
    "df = pd.DataFrame(data)\n",
    "print(df)"
   ]
  },
  {
   "cell_type": "code",
   "execution_count": 39,
   "id": "42fdb183",
   "metadata": {},
   "outputs": [
    {
     "name": "stdout",
     "output_type": "stream",
     "text": [
      "    Name    Age  Salary   City\n",
      "0  False  False   False  False\n",
      "1   True  False   False  False\n",
      "2  False  False   False  False\n",
      "3  False  False   False   True\n",
      "4  False  False   False  False\n",
      "5  False  False    True  False\n",
      "6  False  False   False  False\n",
      "Missing values count\n",
      "Name      1\n",
      "Age       0\n",
      "Salary    1\n",
      "City      1\n",
      "dtype: int64\n"
     ]
    }
   ],
   "source": [
    "#to check NAN values in dataset\n",
    "\n",
    "print(df.isnull())   \n",
    "print(\"Missing values count\")\n",
    "print(df.isnull().sum())"
   ]
  },
  {
   "cell_type": "markdown",
   "id": "dc780095",
   "metadata": {},
   "source": [
    "#### To handle the missing data"
   ]
  },
  {
   "cell_type": "code",
   "execution_count": 40,
   "id": "7996cdcb",
   "metadata": {},
   "outputs": [
    {
     "name": "stdout",
     "output_type": "stream",
     "text": [
      "        Name  Age   Salary      City\n",
      "0        Ram   25  20000.0     Delhi\n",
      "2  Ghanshyam   25  35000.0      Pune\n",
      "4      Geeta   27  22000.0  Gurugram\n",
      "6     Chirag   23  40000.0    Meerut\n",
      "\n",
      "THE SHAPE OF NEWLY CREATED DATASET : \n",
      "(4, 4)\n"
     ]
    }
   ],
   "source": [
    "# first method is to delete that specific row or column\n",
    "\n",
    "new = df.dropna(axis=0,inplace = False)  #creation of new dataset\n",
    "print(new)\n",
    "print(\"\\nTHE SHAPE OF NEWLY CREATED DATASET : \")\n",
    "print(new.shape)"
   ]
  },
  {
   "cell_type": "code",
   "execution_count": null,
   "id": "f44bb12d",
   "metadata": {},
   "outputs": [
    {
     "data": {
      "text/html": [
       "<div>\n",
       "<style scoped>\n",
       "    .dataframe tbody tr th:only-of-type {\n",
       "        vertical-align: middle;\n",
       "    }\n",
       "\n",
       "    .dataframe tbody tr th {\n",
       "        vertical-align: top;\n",
       "    }\n",
       "\n",
       "    .dataframe thead th {\n",
       "        text-align: right;\n",
       "    }\n",
       "</style>\n",
       "<table border=\"1\" class=\"dataframe\">\n",
       "  <thead>\n",
       "    <tr style=\"text-align: right;\">\n",
       "      <th></th>\n",
       "      <th>Name</th>\n",
       "      <th>Age</th>\n",
       "      <th>Salary</th>\n",
       "      <th>City</th>\n",
       "    </tr>\n",
       "  </thead>\n",
       "  <tbody>\n",
       "    <tr>\n",
       "      <th>0</th>\n",
       "      <td>Ram</td>\n",
       "      <td>25.0</td>\n",
       "      <td>20000.0</td>\n",
       "      <td>Delhi</td>\n",
       "    </tr>\n",
       "    <tr>\n",
       "      <th>1</th>\n",
       "      <td>10</td>\n",
       "      <td>26.0</td>\n",
       "      <td>30000.0</td>\n",
       "      <td>Meerut</td>\n",
       "    </tr>\n",
       "    <tr>\n",
       "      <th>2</th>\n",
       "      <td>Ghanshyam</td>\n",
       "      <td>25.0</td>\n",
       "      <td>35000.0</td>\n",
       "      <td>Pune</td>\n",
       "    </tr>\n",
       "    <tr>\n",
       "      <th>3</th>\n",
       "      <td>Sita</td>\n",
       "      <td>10.0</td>\n",
       "      <td>25000.0</td>\n",
       "      <td>10</td>\n",
       "    </tr>\n",
       "    <tr>\n",
       "      <th>4</th>\n",
       "      <td>Geeta</td>\n",
       "      <td>27.0</td>\n",
       "      <td>22000.0</td>\n",
       "      <td>Gurugram</td>\n",
       "    </tr>\n",
       "    <tr>\n",
       "      <th>5</th>\n",
       "      <td>Mohan</td>\n",
       "      <td>29.0</td>\n",
       "      <td>10.0</td>\n",
       "      <td>Ghaziabad</td>\n",
       "    </tr>\n",
       "    <tr>\n",
       "      <th>6</th>\n",
       "      <td>Chirag</td>\n",
       "      <td>23.0</td>\n",
       "      <td>40000.0</td>\n",
       "      <td>Meerut</td>\n",
       "    </tr>\n",
       "  </tbody>\n",
       "</table>\n",
       "</div>"
      ],
      "text/plain": [
       "        Name   Age   Salary       City\n",
       "0        Ram  25.0  20000.0      Delhi\n",
       "1         10  26.0  30000.0     Meerut\n",
       "2  Ghanshyam  25.0  35000.0       Pune\n",
       "3       Sita  10.0  25000.0         10\n",
       "4      Geeta  27.0  22000.0   Gurugram\n",
       "5      Mohan  29.0     10.0  Ghaziabad\n",
       "6     Chirag  23.0  40000.0     Meerut"
      ]
     },
     "execution_count": 25,
     "metadata": {},
     "output_type": "execute_result"
    }
   ],
   "source": [
    "# second method is to fill the missing values\n",
    "\n",
    "new2 = df.fillna(10,inplace = False)    #filling default value\n",
    "new2"
   ]
  },
  {
   "cell_type": "code",
   "execution_count": null,
   "id": "2cbefd9d",
   "metadata": {},
   "outputs": [
    {
     "data": {
      "text/html": [
       "<div>\n",
       "<style scoped>\n",
       "    .dataframe tbody tr th:only-of-type {\n",
       "        vertical-align: middle;\n",
       "    }\n",
       "\n",
       "    .dataframe tbody tr th {\n",
       "        vertical-align: top;\n",
       "    }\n",
       "\n",
       "    .dataframe thead th {\n",
       "        text-align: right;\n",
       "    }\n",
       "</style>\n",
       "<table border=\"1\" class=\"dataframe\">\n",
       "  <thead>\n",
       "    <tr style=\"text-align: right;\">\n",
       "      <th></th>\n",
       "      <th>Name</th>\n",
       "      <th>Age</th>\n",
       "      <th>Salary</th>\n",
       "      <th>City</th>\n",
       "    </tr>\n",
       "  </thead>\n",
       "  <tbody>\n",
       "    <tr>\n",
       "      <th>0</th>\n",
       "      <td>Ram</td>\n",
       "      <td>25</td>\n",
       "      <td>20000.000000</td>\n",
       "      <td>Delhi</td>\n",
       "    </tr>\n",
       "    <tr>\n",
       "      <th>1</th>\n",
       "      <td>Shyam</td>\n",
       "      <td>26</td>\n",
       "      <td>30000.000000</td>\n",
       "      <td>Meerut</td>\n",
       "    </tr>\n",
       "    <tr>\n",
       "      <th>2</th>\n",
       "      <td>Ghanshyam</td>\n",
       "      <td>25</td>\n",
       "      <td>35000.000000</td>\n",
       "      <td>Pune</td>\n",
       "    </tr>\n",
       "    <tr>\n",
       "      <th>3</th>\n",
       "      <td>Sita</td>\n",
       "      <td>20</td>\n",
       "      <td>25000.000000</td>\n",
       "      <td>None</td>\n",
       "    </tr>\n",
       "    <tr>\n",
       "      <th>4</th>\n",
       "      <td>Geeta</td>\n",
       "      <td>27</td>\n",
       "      <td>22000.000000</td>\n",
       "      <td>Gurugram</td>\n",
       "    </tr>\n",
       "    <tr>\n",
       "      <th>5</th>\n",
       "      <td>Mohan</td>\n",
       "      <td>29</td>\n",
       "      <td>28666.666667</td>\n",
       "      <td>Ghaziabad</td>\n",
       "    </tr>\n",
       "    <tr>\n",
       "      <th>6</th>\n",
       "      <td>Chirag</td>\n",
       "      <td>23</td>\n",
       "      <td>40000.000000</td>\n",
       "      <td>Meerut</td>\n",
       "    </tr>\n",
       "  </tbody>\n",
       "</table>\n",
       "</div>"
      ],
      "text/plain": [
       "        Name  Age        Salary       City\n",
       "0        Ram   25  20000.000000      Delhi\n",
       "1      Shyam   26  30000.000000     Meerut\n",
       "2  Ghanshyam   25  35000.000000       Pune\n",
       "3       Sita   20  25000.000000       None\n",
       "4      Geeta   27  22000.000000   Gurugram\n",
       "5      Mohan   29  28666.666667  Ghaziabad\n",
       "6     Chirag   23  40000.000000     Meerut"
      ]
     },
     "execution_count": 44,
     "metadata": {},
     "output_type": "execute_result"
    }
   ],
   "source": [
    "# to fill values column wise\n",
    "\n",
    "df[\"Name\"].fillna(\"Shyam\",inplace = True)                   #handling the missing name\n",
    "df[\"Salary\"].fillna(df[\"Salary\"].mean(),inplace = True)     #handling the missing salary by average salary\n",
    "df \n"
   ]
  },
  {
   "cell_type": "markdown",
   "id": "8ec07276",
   "metadata": {},
   "source": [
    "#### INTREPOLATION\n",
    "used for filling missing values by estimation"
   ]
  },
  {
   "cell_type": "code",
   "execution_count": 16,
   "id": "6c2a144a",
   "metadata": {},
   "outputs": [
    {
     "name": "stdout",
     "output_type": "stream",
     "text": [
      "0     1.0\n",
      "1     NaN\n",
      "2     NaN\n",
      "3    10.0\n",
      "dtype: float64\n"
     ]
    }
   ],
   "source": [
    "#data creation\n",
    "import numpy as np\n",
    "import pandas as pd\n",
    "df = pd.Series([1,np.nan,np.nan,10])\n",
    "print(df)"
   ]
  },
  {
   "cell_type": "code",
   "execution_count": 22,
   "id": "2109e0d6",
   "metadata": {},
   "outputs": [
    {
     "name": "stderr",
     "output_type": "stream",
     "text": [
      "C:\\Users\\Chirag\\AppData\\Local\\Temp\\ipykernel_9660\\924016181.py:2: FutureWarning: Series.interpolate with method=pad is deprecated and will raise in a future version. Use obj.ffill() or obj.bfill() instead.\n",
      "  new1 = df.interpolate(method = 'pad',inplace = False)\n"
     ]
    },
    {
     "data": {
      "text/plain": [
       "0     1.0\n",
       "1     1.0\n",
       "2     1.0\n",
       "3    10.0\n",
       "dtype: float64"
      ]
     },
     "execution_count": 22,
     "metadata": {},
     "output_type": "execute_result"
    }
   ],
   "source": [
    "#pad method --> fill in the previous known values\n",
    "new1 = df.interpolate(method = 'pad',inplace = False)\n",
    "new1"
   ]
  },
  {
   "cell_type": "code",
   "execution_count": 23,
   "id": "3bc96270",
   "metadata": {},
   "outputs": [
    {
     "data": {
      "text/plain": [
       "0     1.0\n",
       "1     1.0\n",
       "2    10.0\n",
       "3    10.0\n",
       "dtype: float64"
      ]
     },
     "execution_count": 23,
     "metadata": {},
     "output_type": "execute_result"
    }
   ],
   "source": [
    "#nearest method --> fill nearest values\n",
    "new2 = df.interpolate(method = 'nearest')\n",
    "new2 "
   ]
  },
  {
   "cell_type": "code",
   "execution_count": 24,
   "id": "f2ee1764",
   "metadata": {},
   "outputs": [
    {
     "data": {
      "text/plain": [
       "0     1.0\n",
       "1     4.0\n",
       "2     7.0\n",
       "3    10.0\n",
       "dtype: float64"
      ]
     },
     "execution_count": 24,
     "metadata": {},
     "output_type": "execute_result"
    }
   ],
   "source": [
    "#linear method to fill in missing values\n",
    "new3 = df.interpolate(method = 'linear',inplace = False)\n",
    "new3"
   ]
  },
  {
   "cell_type": "code",
   "execution_count": 18,
   "id": "ce495975",
   "metadata": {},
   "outputs": [
    {
     "name": "stdout",
     "output_type": "stream",
     "text": [
      "0     0.000000\n",
      "1     2.000000\n",
      "2     4.457143\n",
      "3     8.000000\n",
      "4    13.257143\n",
      "5    18.000000\n",
      "6    20.000000\n",
      "dtype: float64\n"
     ]
    }
   ],
   "source": [
    "#polynomial method\n",
    "#creation of new dataset\n",
    "s = pd.Series([0, 2, np.nan, 8, np.nan, 18, 20])\n",
    "print(s.interpolate(method='polynomial', order=2))"
   ]
  },
  {
   "cell_type": "code",
   "execution_count": 19,
   "id": "c489ea17",
   "metadata": {},
   "outputs": [
    {
     "name": "stdout",
     "output_type": "stream",
     "text": [
      "2023-01-01    10.0\n",
      "2023-01-02    20.0\n",
      "2023-01-04    40.0\n",
      "dtype: float64\n"
     ]
    }
   ],
   "source": [
    "#time series data--> time method\n",
    "s = pd.Series([10, None, 40],\n",
    "              index=pd.to_datetime(['2023-01-01','2023-01-02','2023-01-04']))\n",
    "print(s.interpolate(method='time'))"
   ]
  }
 ],
 "metadata": {
  "kernelspec": {
   "display_name": "Python 3",
   "language": "python",
   "name": "python3"
  },
  "language_info": {
   "codemirror_mode": {
    "name": "ipython",
    "version": 3
   },
   "file_extension": ".py",
   "mimetype": "text/x-python",
   "name": "python",
   "nbconvert_exporter": "python",
   "pygments_lexer": "ipython3",
   "version": "3.12.0"
  }
 },
 "nbformat": 4,
 "nbformat_minor": 5
}
