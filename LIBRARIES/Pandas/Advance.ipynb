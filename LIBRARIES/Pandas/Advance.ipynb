{
 "cells": [
  {
   "cell_type": "markdown",
   "id": "f6ca4408",
   "metadata": {},
   "source": [
    "#### SORTING"
   ]
  },
  {
   "cell_type": "code",
   "execution_count": 1,
   "id": "c43acf76",
   "metadata": {},
   "outputs": [],
   "source": [
    "import pandas as pd"
   ]
  },
  {
   "cell_type": "code",
   "execution_count": 4,
   "id": "1680fc45",
   "metadata": {},
   "outputs": [
    {
     "data": {
      "text/html": [
       "<div>\n",
       "<style scoped>\n",
       "    .dataframe tbody tr th:only-of-type {\n",
       "        vertical-align: middle;\n",
       "    }\n",
       "\n",
       "    .dataframe tbody tr th {\n",
       "        vertical-align: top;\n",
       "    }\n",
       "\n",
       "    .dataframe thead th {\n",
       "        text-align: right;\n",
       "    }\n",
       "</style>\n",
       "<table border=\"1\" class=\"dataframe\">\n",
       "  <thead>\n",
       "    <tr style=\"text-align: right;\">\n",
       "      <th></th>\n",
       "      <th>Name</th>\n",
       "      <th>Age</th>\n",
       "      <th>Salary</th>\n",
       "      <th>City</th>\n",
       "    </tr>\n",
       "  </thead>\n",
       "  <tbody>\n",
       "    <tr>\n",
       "      <th>0</th>\n",
       "      <td>Ram</td>\n",
       "      <td>25</td>\n",
       "      <td>20000</td>\n",
       "      <td>Delhi</td>\n",
       "    </tr>\n",
       "    <tr>\n",
       "      <th>1</th>\n",
       "      <td>Shyam</td>\n",
       "      <td>26</td>\n",
       "      <td>30000</td>\n",
       "      <td>Meerut</td>\n",
       "    </tr>\n",
       "    <tr>\n",
       "      <th>2</th>\n",
       "      <td>Ghanshyam</td>\n",
       "      <td>25</td>\n",
       "      <td>35000</td>\n",
       "      <td>Pune</td>\n",
       "    </tr>\n",
       "    <tr>\n",
       "      <th>3</th>\n",
       "      <td>Chirag</td>\n",
       "      <td>28</td>\n",
       "      <td>40000</td>\n",
       "      <td>Noida</td>\n",
       "    </tr>\n",
       "    <tr>\n",
       "      <th>4</th>\n",
       "      <td>Mohan</td>\n",
       "      <td>35</td>\n",
       "      <td>10000</td>\n",
       "      <td>Meerut</td>\n",
       "    </tr>\n",
       "  </tbody>\n",
       "</table>\n",
       "</div>"
      ],
      "text/plain": [
       "        Name  Age  Salary    City\n",
       "0        Ram   25   20000   Delhi\n",
       "1      Shyam   26   30000  Meerut\n",
       "2  Ghanshyam   25   35000    Pune\n",
       "3     Chirag   28   40000   Noida\n",
       "4      Mohan   35   10000  Meerut"
      ]
     },
     "execution_count": 4,
     "metadata": {},
     "output_type": "execute_result"
    }
   ],
   "source": [
    "data = {\n",
    "    \"Name\" : [\"Ram\",\"Shyam\",\"Ghanshyam\",\"Chirag\",\"Mohan\"],\n",
    "    \"Age\" : [25,26,25,28,35],\n",
    "    \"Salary\" : [20000,30000,35000,40000,10000],\n",
    "    \"City\" : [\"Delhi\",\"Meerut\",\"Pune\",\"Noida\",\"Meerut\"]\n",
    "}\n",
    "df = pd.DataFrame(data)\n",
    "df"
   ]
  },
  {
   "cell_type": "code",
   "execution_count": 7,
   "id": "8139107f",
   "metadata": {},
   "outputs": [
    {
     "name": "stdout",
     "output_type": "stream",
     "text": [
      "        Name  Age  Salary    City\n",
      "3     Chirag   28   40000   Noida\n",
      "2  Ghanshyam   25   35000    Pune\n",
      "4      Mohan   35   10000  Meerut\n",
      "0        Ram   25   20000   Delhi\n",
      "1      Shyam   26   30000  Meerut\n"
     ]
    }
   ],
   "source": [
    "#sorting based on one column\n",
    "\n",
    "new1 = df.sort_values(by = \"Name\",ascending = True,inplace = False)\n",
    "print(new1)"
   ]
  },
  {
   "cell_type": "code",
   "execution_count": null,
   "id": "ba87b26f",
   "metadata": {},
   "outputs": [
    {
     "data": {
      "text/html": [
       "<div>\n",
       "<style scoped>\n",
       "    .dataframe tbody tr th:only-of-type {\n",
       "        vertical-align: middle;\n",
       "    }\n",
       "\n",
       "    .dataframe tbody tr th {\n",
       "        vertical-align: top;\n",
       "    }\n",
       "\n",
       "    .dataframe thead th {\n",
       "        text-align: right;\n",
       "    }\n",
       "</style>\n",
       "<table border=\"1\" class=\"dataframe\">\n",
       "  <thead>\n",
       "    <tr style=\"text-align: right;\">\n",
       "      <th></th>\n",
       "      <th>Name</th>\n",
       "      <th>Age</th>\n",
       "      <th>Department</th>\n",
       "      <th>Salary</th>\n",
       "      <th>City</th>\n",
       "    </tr>\n",
       "  </thead>\n",
       "  <tbody>\n",
       "    <tr>\n",
       "      <th>0</th>\n",
       "      <td>Ram</td>\n",
       "      <td>25</td>\n",
       "      <td>HR</td>\n",
       "      <td>20000</td>\n",
       "      <td>Delhi</td>\n",
       "    </tr>\n",
       "    <tr>\n",
       "      <th>2</th>\n",
       "      <td>Ghanshyam</td>\n",
       "      <td>25</td>\n",
       "      <td>HR</td>\n",
       "      <td>35000</td>\n",
       "      <td>Pune</td>\n",
       "    </tr>\n",
       "    <tr>\n",
       "      <th>1</th>\n",
       "      <td>Shyam</td>\n",
       "      <td>26</td>\n",
       "      <td>IT</td>\n",
       "      <td>30000</td>\n",
       "      <td>Meerut</td>\n",
       "    </tr>\n",
       "    <tr>\n",
       "      <th>3</th>\n",
       "      <td>Chirag</td>\n",
       "      <td>28</td>\n",
       "      <td>IT</td>\n",
       "      <td>40000</td>\n",
       "      <td>Noida</td>\n",
       "    </tr>\n",
       "    <tr>\n",
       "      <th>4</th>\n",
       "      <td>Mohan</td>\n",
       "      <td>35</td>\n",
       "      <td>Technical</td>\n",
       "      <td>10000</td>\n",
       "      <td>Meerut</td>\n",
       "    </tr>\n",
       "  </tbody>\n",
       "</table>\n",
       "</div>"
      ],
      "text/plain": [
       "        Name  Age Department  Salary    City\n",
       "0        Ram   25         HR   20000   Delhi\n",
       "2  Ghanshyam   25         HR   35000    Pune\n",
       "1      Shyam   26         IT   30000  Meerut\n",
       "3     Chirag   28         IT   40000   Noida\n",
       "4      Mohan   35  Technical   10000  Meerut"
      ]
     },
     "execution_count": 16,
     "metadata": {},
     "output_type": "execute_result"
    }
   ],
   "source": [
    "#sorting based on multiple columns\n",
    "#first sort by primary columns and then for same row values in primary column, sort by second column\n",
    "\n",
    "data = {\n",
    "    \"Name\" : [\"Ram\",\"Shyam\",\"Ghanshyam\",\"Chirag\",\"Mohan\"],\n",
    "    \"Age\" : [25,26,25,28,35],\n",
    "    \"Department\" : [\"HR\",\"IT\",\"HR\",\"IT\",\"Technical\"],\n",
    "    \"Salary\" : [20000,30000,35000,40000,10000],\n",
    "    \"City\" : [\"Delhi\",\"Meerut\",\"Pune\",\"Noida\",\"Meerut\"]\n",
    "}\n",
    "df = pd.DataFrame(data)\n",
    "\n",
    "df.sort_values(by = [\"Department\",\"Salary\"], ascending = [True,True], inplace = True)\n",
    "df"
   ]
  },
  {
   "cell_type": "markdown",
   "id": "59fe0baa",
   "metadata": {},
   "source": [
    "#### AGGREGATION\n",
    "to summarise the data "
   ]
  },
  {
   "cell_type": "code",
   "execution_count": 24,
   "id": "2c14e71a",
   "metadata": {},
   "outputs": [
    {
     "name": "stdout",
     "output_type": "stream",
     "text": [
      "49000.0\n",
      "Summarise based on grouping values in a column\n",
      "Department\n",
      "Finance    50000.000000\n",
      "HR         47333.333333\n",
      "IT         49500.000000\n",
      "Name: Salary, dtype: float64\n",
      "Summarizing based on grouping multiple columns\n",
      "Department  Gender\n",
      "Finance     F         55000.000000\n",
      "            M         47500.000000\n",
      "HR          F         41000.000000\n",
      "            M         60000.000000\n",
      "IT          F         52000.000000\n",
      "            M         48666.666667\n",
      "Name: Salary, dtype: float64\n"
     ]
    }
   ],
   "source": [
    "data = {\n",
    "    'Employee': ['Alice', 'Bob', 'Charlie', 'David', 'Eve', \n",
    "                 'Frank', 'Grace', 'Hannah', 'Ian', 'Jack'],\n",
    "    'Department': ['HR', 'IT', 'IT', 'HR', 'Finance',\n",
    "                   'Finance', 'IT', 'HR', 'Finance', 'IT'],\n",
    "    'Salary': [40000, 50000, 45000, 60000, 55000,\n",
    "               48000, 52000, 42000, 47000, 51000],\n",
    "    'Experience': [2, 5, 3, 7, 10,\n",
    "                   4, 6, 2, 8, 5],\n",
    "    'Gender': ['F', 'M', 'M', 'M', 'F',\n",
    "               'M', 'F', 'F', 'M', 'M']\n",
    "}\n",
    "\n",
    "df = pd.DataFrame(data)\n",
    "\n",
    "print(df['Salary'].mean())      #to write the average salary(single column)\n",
    "\n",
    "print(\"Summarise based on grouping values in a column\")\n",
    "print(df.groupby(\"Department\")['Salary'].mean())      #to write the average salary of each department\n",
    "\n",
    "print(\"Summarizing based on grouping multiple columns\")\n",
    "print(df.groupby([\"Department\",\"Gender\"])[\"Salary\"].mean())      #to print the average salary department and gender wise\n"
   ]
  },
  {
   "cell_type": "markdown",
   "id": "0d33c67c",
   "metadata": {},
   "source": [
    "#### MERGING"
   ]
  },
  {
   "cell_type": "code",
   "execution_count": 8,
   "id": "86e49ccd",
   "metadata": {},
   "outputs": [
    {
     "name": "stdout",
     "output_type": "stream",
     "text": [
      "After inner Join :\n",
      "    ID   Name  Amount\n",
      "0   1    Ram   10000\n",
      "1   2  Shyam   12000\n",
      "After outer Join :\n",
      "    ID   Name   Amount\n",
      "0   1    Ram  10000.0\n",
      "1   2  Shyam  12000.0\n",
      "2   3  Mohan      NaN\n",
      "3   4    NaN  15000.0\n",
      "After left Join :\n",
      "    ID   Name   Amount\n",
      "0   1    Ram  10000.0\n",
      "1   2  Shyam  12000.0\n",
      "2   3  Mohan      NaN\n",
      "After right Join :\n",
      "    ID   Name  Amount\n",
      "0   1    Ram   10000\n",
      "1   2  Shyam   12000\n",
      "2   4    NaN   15000\n",
      "After cross Join :\n",
      "    ID_x   Name  ID_y  Amount\n",
      "0     1    Ram     1   10000\n",
      "1     1    Ram     2   12000\n",
      "2     1    Ram     4   15000\n",
      "3     2  Shyam     1   10000\n",
      "4     2  Shyam     2   12000\n",
      "5     2  Shyam     4   15000\n",
      "6     3  Mohan     1   10000\n",
      "7     3  Mohan     2   12000\n",
      "8     3  Mohan     4   15000\n"
     ]
    }
   ],
   "source": [
    "df_Customer = pd.DataFrame({\n",
    "    \"ID\" : [1,2,3],\n",
    "    \"Name\" : [\"Ram\",\"Shyam\",\"Mohan\"]\n",
    "})\n",
    "df_order = pd.DataFrame({\n",
    "    \"ID\" : [1,2,4],\n",
    "    \"Amount\" : [10000,12000,15000]\n",
    "})\n",
    "\n",
    "print(\"After inner Join :\\n\",pd.merge(df_Customer,df_order, on =\"ID\",how = \"inner\")) \n",
    "print(\"After outer Join :\\n\",pd.merge(df_Customer,df_order, on =\"ID\",how = \"outer\"))\n",
    "print(\"After left Join :\\n\",pd.merge(df_Customer,df_order, on =\"ID\",how = \"left\")) \n",
    "print(\"After right Join :\\n\",pd.merge(df_Customer,df_order, on =\"ID\",how = \"right\")) \n",
    "print(\"After cross Join :\\n\",pd.merge(df_Customer,df_order,how = \"cross\"))    "
   ]
  },
  {
   "cell_type": "markdown",
   "id": "71574660",
   "metadata": {},
   "source": [
    "#### CONCATENATE "
   ]
  },
  {
   "cell_type": "code",
   "execution_count": 15,
   "id": "4a69d490",
   "metadata": {},
   "outputs": [
    {
     "name": "stdout",
     "output_type": "stream",
     "text": [
      "   ID   Name   Amount\n",
      "0   1    Ram      NaN\n",
      "1   2  Shyam      NaN\n",
      "2   3  Mohan      NaN\n",
      "3   1    NaN  10000.0\n",
      "4   2    NaN  12000.0\n",
      "5   4    NaN  15000.0\n",
      "\n",
      "   0      1  2      3\n",
      "0  1    Ram  1  10000\n",
      "1  2  Shyam  2  12000\n",
      "2  3  Mohan  4  15000\n"
     ]
    }
   ],
   "source": [
    "df_Customer = pd.DataFrame({\n",
    "    \"ID\" : [1,2,3],\n",
    "    \"Name\" : [\"Ram\",\"Shyam\",\"Mohan\"]\n",
    "})\n",
    "df_order = pd.DataFrame({\n",
    "    \"ID\" : [1,2,4],\n",
    "    \"Amount\" : [10000,12000,15000]\n",
    "})\n",
    "\n",
    "print(pd.concat([df_Customer,df_order], axis = 0,ignore_index=True))     #row wise concatenation\n",
    "print()\n",
    "print(pd.concat([df_Customer,df_order],axis =1, ignore_index=True))      #column wise concatenation"
   ]
  }
 ],
 "metadata": {
  "kernelspec": {
   "display_name": "Python 3",
   "language": "python",
   "name": "python3"
  },
  "language_info": {
   "codemirror_mode": {
    "name": "ipython",
    "version": 3
   },
   "file_extension": ".py",
   "mimetype": "text/x-python",
   "name": "python",
   "nbconvert_exporter": "python",
   "pygments_lexer": "ipython3",
   "version": "3.12.0"
  }
 },
 "nbformat": 4,
 "nbformat_minor": 5
}
