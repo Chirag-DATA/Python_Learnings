{
 "cells": [
  {
   "cell_type": "code",
   "execution_count": 1,
   "id": "d6c6bbc9",
   "metadata": {},
   "outputs": [
    {
     "name": "stdout",
     "output_type": "stream",
     "text": [
      "[1 2 3 4 5]\n",
      "<class 'numpy.ndarray'>\n"
     ]
    }
   ],
   "source": [
    "#Creating 1D array\n",
    "import numpy as np\n",
    "arr = np.array([1,2,3,4,5])\n",
    "print(arr)\n",
    "print(type(arr))"
   ]
  },
  {
   "cell_type": "code",
   "execution_count": 3,
   "id": "140943af",
   "metadata": {},
   "outputs": [
    {
     "name": "stdout",
     "output_type": "stream",
     "text": [
      "[[1 2 3]\n",
      " [4 5 6]]\n",
      "2\n"
     ]
    }
   ],
   "source": [
    "# 2D array\n",
    "arr = np.array([[1,2,3],[4,5,6]])\n",
    "print(arr)\n",
    "print(arr.ndim)"
   ]
  },
  {
   "cell_type": "code",
   "execution_count": 14,
   "id": "ab6ae138",
   "metadata": {},
   "outputs": [
    {
     "name": "stdout",
     "output_type": "stream",
     "text": [
      "The array with zeros as default values : \n",
      " [[0. 0. 0.]\n",
      " [0. 0. 0.]\n",
      " [0. 0. 0.]]\n",
      "The array with ones as default values : \n",
      " [[1. 1. 1.]\n",
      " [1. 1. 1.]]\n",
      "The array with desired number as default value : \n",
      " [['7' '7']\n",
      " ['7' '7']]\n",
      "The identity matrix of any dimension : \n",
      " [[1. 0. 0.]\n",
      " [0. 1. 0.]\n",
      " [0. 0. 1.]]\n",
      "Printing an array of desired range : \n",
      " [1 3 5 7 9]\n"
     ]
    }
   ],
   "source": [
    "# creating some arrays that contains by default values\n",
    "\n",
    "arr_zeros = np.zeros((3,3))\n",
    "print(\"The array with zeros as default values : \\n\",arr_zeros)\n",
    "\n",
    "arr_ones = np.ones((2,3))\n",
    "print(\"The array with ones as default values : \\n\",arr_ones)\n",
    "\n",
    "arr_desired = np.full((2,2,), \"7\")\n",
    "print(\"The array with desired number as default value : \\n\",arr_desired)\n",
    "\n",
    "arr_iden = np.eye(3)\n",
    "print(\"The identity matrix of any dimension : \\n\",arr_iden)\n",
    "\n",
    "arr_range = np.arange(1,10,2)\n",
    "print(\"Printing an array of desired range : \\n\",arr_range)"
   ]
  },
  {
   "cell_type": "code",
   "execution_count": 15,
   "id": "1ce8290d",
   "metadata": {},
   "outputs": [
    {
     "name": "stdout",
     "output_type": "stream",
     "text": [
      "The shape of array is : (2, 6)\n",
      "The number of elements in array is : 12\n",
      "The dimension of array is : 2\n",
      "The data type of elements stored in array is : int32\n"
     ]
    }
   ],
   "source": [
    "#checking properties of an array\n",
    "\n",
    "arr = np.array([[1,2,3,4,5,6],\n",
    "                [7,8,9,10,11,12]])\n",
    "\n",
    "print(\"The shape of array is :\",arr.shape)\n",
    "print(\"The number of elements in array is :\",arr.size)\n",
    "print(\"The dimension of array is :\",arr.ndim)\n",
    "print(\"The data type of elements stored in array is :\",arr.dtype)"
   ]
  },
  {
   "cell_type": "code",
   "execution_count": null,
   "id": "aa7fd919",
   "metadata": {},
   "outputs": [
    {
     "name": "stdout",
     "output_type": "stream",
     "text": [
      "The reshaped array is :\n",
      " [[ 1  2  3]\n",
      " [ 4  5  6]\n",
      " [ 7  8  9]\n",
      " [10 11 12]]\n",
      "New array with changed data type :\n",
      " [[ 1.  2.  3.  4.  5.  6.]\n",
      " [ 7.  8.  9. 10. 11. 12.]]\n"
     ]
    }
   ],
   "source": [
    "# changing the properties of an array\n",
    "arr = np.array([[1,2,3,4,5,6],\n",
    "                [7,8,9,10,11,12]])\n",
    "arr2 = arr.reshape((4,3))\n",
    "print(\"The reshaped array is :\\n\",arr2)\n",
    "\n",
    "arr3 = arr.astype(float)        #change the data type of elements in array\n",
    "print(\"New array with changed data type :\\n\",arr3)"
   ]
  },
  {
   "cell_type": "code",
   "execution_count": 24,
   "id": "156f1660",
   "metadata": {},
   "outputs": [
    {
     "name": "stdout",
     "output_type": "stream",
     "text": [
      "[ 20  30  40  50  60  70  80  90 100]\n",
      "[ 5 15 25 35 45 55 65 75 85]\n",
      "[ 20  40  60  80 100 120 140 160 180]\n",
      "[ 100  400  900 1600 2500 3600 4900 6400 8100]\n",
      "[ 5. 10. 15. 20. 25. 30. 35. 40. 45.]\n",
      "[ 5 10 15 20 25 30 35 40 45]\n",
      "[0 0 0 0 0 0 0 0 0]\n"
     ]
    }
   ],
   "source": [
    "# applying mathematical operations on the array\n",
    "\n",
    "arr = np.arange(10,100,10)\n",
    "print(arr + 10)         #add 10 to all elemnts of the array\n",
    "print(arr - 5)          #subtract 5 from all elements\n",
    "print(arr * 2)\n",
    "print(arr ** 2)\n",
    "print(arr / 2)\n",
    "print(arr // 2)\n",
    "print(arr % 2)"
   ]
  },
  {
   "cell_type": "code",
   "execution_count": 27,
   "id": "6f877db1",
   "metadata": {},
   "outputs": [
    {
     "name": "stdout",
     "output_type": "stream",
     "text": [
      "The original array is :  [10 11 12 13 14 15 16 17 18 19]\n",
      "Sum is -> 145\n",
      "Mean is -> 14.5\n",
      "Max element is -> 19\n",
      "Min element is -> 10\n",
      "Standard deviation is -> 2.8722813232690143\n",
      "Variance is -> 8.25\n"
     ]
    }
   ],
   "source": [
    "# aggregation function on array\n",
    "# to summarise the content of the array\n",
    "\n",
    "arr = np.arange(10,20,1)\n",
    "print(\"The original array is : \",arr)\n",
    "print(\"Sum is ->\",np.sum(arr))\n",
    "print(\"Mean is ->\",np.mean(arr))\n",
    "print(\"Max element is ->\",np.max(arr))\n",
    "print(\"Min element is ->\",np.min(arr))\n",
    "print(\"Standard deviation is ->\",np.std(arr))\n",
    "print(\"Variance is ->\",np.var(arr))\n"
   ]
  },
  {
   "cell_type": "markdown",
   "id": "ca76863b",
   "metadata": {},
   "source": [
    "#### Indexing and Slicing"
   ]
  },
  {
   "cell_type": "code",
   "execution_count": 33,
   "id": "dbc64de2",
   "metadata": {},
   "outputs": [
    {
     "name": "stdout",
     "output_type": "stream",
     "text": [
      "6\n",
      "3\n",
      "9\n",
      "4\n"
     ]
    }
   ],
   "source": [
    "# Normal Indexing\n",
    "arr = np.array([[1,2,3],\n",
    "                 [4,5,6],\n",
    "                 [7,8,9]])\n",
    "print(arr[1,2])         \n",
    "print(arr[0,2])\n",
    "print(arr[2,2])\n",
    "print(arr[1,0])"
   ]
  },
  {
   "cell_type": "code",
   "execution_count": null,
   "id": "e995a5a9",
   "metadata": {},
   "outputs": [
    {
     "name": "stdout",
     "output_type": "stream",
     "text": [
      "Original array :  [10 15 20 25 30 35 40 45 50 55 60 65 70 75 80 85 90 95]\n",
      "[15 35 45 60 30 45]\n"
     ]
    }
   ],
   "source": [
    "# fancy indexing --> selecting multiple non sequential elements from an array\n",
    "arr = np.arange(10,100,5)\n",
    "print(\"Original array : \",arr)\n",
    "print(arr[[1,5,7,10,4,7]])    #accessing mutliple elements at a time"
   ]
  },
  {
   "cell_type": "code",
   "execution_count": null,
   "id": "c3e347f4",
   "metadata": {},
   "outputs": [
    {
     "name": "stdout",
     "output_type": "stream",
     "text": [
      "Original array :  [10 13 16 19 22 25 28 31 34 37 40 43 46 49 52 55 58 61 64 67 70 73 76 79\n",
      " 82 85 88 91 94 97]\n",
      "[16 28 40 52 64 76 88]\n"
     ]
    }
   ],
   "source": [
    "# boolean masking --> to choose only those elements from array which satisfies a specific condition\n",
    "\n",
    "arr = np.arange(10,100,3)\n",
    "print(\"Original array : \",arr)\n",
    "print(arr[arr % 4 == 0])"
   ]
  }
 ],
 "metadata": {
  "kernelspec": {
   "display_name": "Python 3",
   "language": "python",
   "name": "python3"
  },
  "language_info": {
   "codemirror_mode": {
    "name": "ipython",
    "version": 3
   },
   "file_extension": ".py",
   "mimetype": "text/x-python",
   "name": "python",
   "nbconvert_exporter": "python",
   "pygments_lexer": "ipython3",
   "version": "3.12.0"
  }
 },
 "nbformat": 4,
 "nbformat_minor": 5
}
