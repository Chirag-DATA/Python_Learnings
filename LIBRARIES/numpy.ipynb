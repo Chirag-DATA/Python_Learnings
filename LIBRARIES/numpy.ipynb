{
 "cells": [
  {
   "cell_type": "code",
   "execution_count": 2,
   "id": "d6c6bbc9",
   "metadata": {},
   "outputs": [
    {
     "name": "stdout",
     "output_type": "stream",
     "text": [
      "[1 2 3 4 5]\n",
      "<class 'numpy.ndarray'>\n"
     ]
    }
   ],
   "source": [
    "#Creating 1D array\n",
    "import numpy as np\n",
    "arr = np.array([1,2,3,4,5])\n",
    "print(arr)\n",
    "print(type(arr))"
   ]
  },
  {
   "cell_type": "code",
   "execution_count": 3,
   "id": "140943af",
   "metadata": {},
   "outputs": [
    {
     "name": "stdout",
     "output_type": "stream",
     "text": [
      "[[1 2 3]\n",
      " [4 5 6]]\n",
      "2\n"
     ]
    }
   ],
   "source": [
    "# 2D array\n",
    "arr = np.array([[1,2,3],[4,5,6]])\n",
    "print(arr)\n",
    "print(arr.ndim)"
   ]
  },
  {
   "cell_type": "code",
   "execution_count": 3,
   "id": "ab6ae138",
   "metadata": {},
   "outputs": [
    {
     "name": "stdout",
     "output_type": "stream",
     "text": [
      "The array with zeros as default values : \n",
      " [[0. 0. 0.]\n",
      " [0. 0. 0.]\n",
      " [0. 0. 0.]]\n",
      "The array with ones as default values : \n",
      " [[1. 1. 1.]\n",
      " [1. 1. 1.]]\n",
      "The array with desired number as default value : \n",
      " [['7' '7']\n",
      " ['7' '7']]\n",
      "The identity matrix of any dimension : \n",
      " [[1. 0. 0.]\n",
      " [0. 1. 0.]\n",
      " [0. 0. 1.]]\n",
      "Printing an array of desired range : \n",
      " [1 3 5 7 9]\n"
     ]
    }
   ],
   "source": [
    "# creating some arrays that contains by default values\n",
    "\n",
    "arr_zeros = np.zeros((3,3))\n",
    "print(\"The array with zeros as default values : \\n\",arr_zeros)\n",
    "\n",
    "arr_ones = np.ones((2,3))\n",
    "print(\"The array with ones as default values : \\n\",arr_ones)\n",
    "\n",
    "arr_desired = np.full((2,2,), \"7\")\n",
    "print(\"The array with desired number as default value : \\n\",arr_desired)\n",
    "\n",
    "arr_iden = np.eye(3)\n",
    "print(\"The identity matrix of any dimension : \\n\",arr_iden)\n",
    "\n",
    "arr_range = np.arange(1,10,2)\n",
    "print(\"Printing an array of desired range : \\n\",arr_range)"
   ]
  },
  {
   "cell_type": "code",
   "execution_count": 15,
   "id": "1ce8290d",
   "metadata": {},
   "outputs": [
    {
     "name": "stdout",
     "output_type": "stream",
     "text": [
      "The shape of array is : (2, 6)\n",
      "The number of elements in array is : 12\n",
      "The dimension of array is : 2\n",
      "The data type of elements stored in array is : int32\n"
     ]
    }
   ],
   "source": [
    "#checking properties of an array\n",
    "\n",
    "arr = np.array([[1,2,3,4,5,6],\n",
    "                [7,8,9,10,11,12]])\n",
    "\n",
    "print(\"The shape of array is :\",arr.shape)\n",
    "print(\"The number of elements in array is :\",arr.size)\n",
    "print(\"The dimension of array is :\",arr.ndim)\n",
    "print(\"The data type of elements stored in array is :\",arr.dtype)"
   ]
  },
  {
   "cell_type": "code",
   "execution_count": null,
   "id": "aa7fd919",
   "metadata": {},
   "outputs": [
    {
     "name": "stdout",
     "output_type": "stream",
     "text": [
      "The reshaped array is :\n",
      " [[ 1  2  3]\n",
      " [ 4  5  6]\n",
      " [ 7  8  9]\n",
      " [10 11 12]]\n",
      "[[ 1  2  3  4  5  6]\n",
      " [ 7  8  9 10 11 12]]\n",
      "New array with changed data type :\n",
      " [[ 1.  2.  3.  4.  5.  6.]\n",
      " [ 7.  8.  9. 10. 11. 12.]]\n",
      "The converted 1D array is :\n",
      " [ 1  2  3  4  5  6  7  8  9 10 11 12]\n",
      "The converted 1D array is :\n",
      " [ 1  2  3  4  5  6  7  8  9 10 11 12]\n"
     ]
    }
   ],
   "source": [
    "# changing the properties of an array\n",
    "import numpy as np\n",
    "arr = np.array([[1,2,3,4,5,6],\n",
    "                [7,8,9,10,11,12]])\n",
    "arr2 = arr.reshape((4,3))                     #creates only view\n",
    "print(\"The reshaped array is :\\n\",arr2)     \n",
    "print(arr)         #original array remains same\n",
    "\n",
    "arr3 = arr.astype(float)        #change the data type of elements in array\n",
    "print(\"New array with changed data type :\\n\",arr3)\n",
    "\n",
    "#converting the multidimensional array in 1D array\n",
    "print(\"The converted 1D array is :\\n\",arr.ravel())              #creates a copy\n",
    "print(\"The converted 1D array is :\\n\",arr.flatten())            #creates a view"
   ]
  },
  {
   "cell_type": "code",
   "execution_count": 24,
   "id": "156f1660",
   "metadata": {},
   "outputs": [
    {
     "name": "stdout",
     "output_type": "stream",
     "text": [
      "[ 20  30  40  50  60  70  80  90 100]\n",
      "[ 5 15 25 35 45 55 65 75 85]\n",
      "[ 20  40  60  80 100 120 140 160 180]\n",
      "[ 100  400  900 1600 2500 3600 4900 6400 8100]\n",
      "[ 5. 10. 15. 20. 25. 30. 35. 40. 45.]\n",
      "[ 5 10 15 20 25 30 35 40 45]\n",
      "[0 0 0 0 0 0 0 0 0]\n"
     ]
    }
   ],
   "source": [
    "# applying mathematical operations on the array\n",
    "\n",
    "arr = np.arange(10,100,10)\n",
    "print(arr + 10)         #add 10 to all elemnts of the array\n",
    "print(arr - 5)          #subtract 5 from all elements\n",
    "print(arr * 2)\n",
    "print(arr ** 2)\n",
    "print(arr / 2)\n",
    "print(arr // 2)\n",
    "print(arr % 2)"
   ]
  },
  {
   "cell_type": "code",
   "execution_count": 27,
   "id": "6f877db1",
   "metadata": {},
   "outputs": [
    {
     "name": "stdout",
     "output_type": "stream",
     "text": [
      "The original array is :  [10 11 12 13 14 15 16 17 18 19]\n",
      "Sum is -> 145\n",
      "Mean is -> 14.5\n",
      "Max element is -> 19\n",
      "Min element is -> 10\n",
      "Standard deviation is -> 2.8722813232690143\n",
      "Variance is -> 8.25\n"
     ]
    }
   ],
   "source": [
    "# aggregation function on array\n",
    "# to summarise the content of the array\n",
    "\n",
    "arr = np.arange(10,20,1)\n",
    "print(\"The original array is : \",arr)\n",
    "print(\"Sum is ->\",np.sum(arr))\n",
    "print(\"Mean is ->\",np.mean(arr))\n",
    "print(\"Max element is ->\",np.max(arr))\n",
    "print(\"Min element is ->\",np.min(arr))\n",
    "print(\"Standard deviation is ->\",np.std(arr))\n",
    "print(\"Variance is ->\",np.var(arr))\n"
   ]
  },
  {
   "cell_type": "markdown",
   "id": "ca76863b",
   "metadata": {},
   "source": [
    "#### Indexing and Slicing"
   ]
  },
  {
   "cell_type": "code",
   "execution_count": 33,
   "id": "dbc64de2",
   "metadata": {},
   "outputs": [
    {
     "name": "stdout",
     "output_type": "stream",
     "text": [
      "6\n",
      "3\n",
      "9\n",
      "4\n"
     ]
    }
   ],
   "source": [
    "# Normal Indexing\n",
    "arr = np.array([[1,2,3],\n",
    "                 [4,5,6],\n",
    "                 [7,8,9]])\n",
    "print(arr[1,2])         \n",
    "print(arr[0,2])\n",
    "print(arr[2,2])\n",
    "print(arr[1,0])"
   ]
  },
  {
   "cell_type": "code",
   "execution_count": null,
   "id": "e995a5a9",
   "metadata": {},
   "outputs": [
    {
     "name": "stdout",
     "output_type": "stream",
     "text": [
      "Original array :  [10 15 20 25 30 35 40 45 50 55 60 65 70 75 80 85 90 95]\n",
      "[15 35 45 60 30 45]\n"
     ]
    }
   ],
   "source": [
    "# fancy indexing --> selecting multiple non sequential elements from an array\n",
    "arr = np.arange(10,100,5)\n",
    "print(\"Original array : \",arr)\n",
    "print(arr[[1,5,7,10,4,7]])    #accessing mutliple elements at a time"
   ]
  },
  {
   "cell_type": "code",
   "execution_count": null,
   "id": "c3e347f4",
   "metadata": {},
   "outputs": [
    {
     "name": "stdout",
     "output_type": "stream",
     "text": [
      "Original array :  [10 13 16 19 22 25 28 31 34 37 40 43 46 49 52 55 58 61 64 67 70 73 76 79\n",
      " 82 85 88 91 94 97]\n",
      "[16 28 40 52 64 76 88]\n"
     ]
    }
   ],
   "source": [
    "# boolean masking --> to choose only those elements from array which satisfies a specific condition\n",
    "\n",
    "arr = np.arange(10,100,3)\n",
    "print(\"Original array : \",arr)\n",
    "print(arr[arr % 4 == 0])"
   ]
  },
  {
   "cell_type": "markdown",
   "id": "507e5acd",
   "metadata": {},
   "source": [
    "#### Array Modification\n",
    "It always creates an new array and the original array remains same, as the array size is fixed always"
   ]
  },
  {
   "cell_type": "code",
   "execution_count": null,
   "id": "173004ad",
   "metadata": {},
   "outputs": [
    {
     "name": "stdout",
     "output_type": "stream",
     "text": [
      "[ 1  2  3 10  4  5  6]\n",
      "[[7 8 9]\n",
      " [1 2 3]\n",
      " [4 5 6]]\n",
      "[[1 2 7 3]\n",
      " [4 5 8 6]]\n"
     ]
    }
   ],
   "source": [
    "# to add new element at specific index --> insert method\n",
    "import numpy as np\n",
    "arr = np.array([1,2,3,4,5,6])\n",
    "new = np.insert(arr,3,10)       #inser 10 at index 3\n",
    "print(new)\n",
    "\n",
    "arr_2d = np.array([[1,2,3],\n",
    "                   [4,5,6]])\n",
    "new_2d = np.insert(arr_2d,0,[7,8,9],axis=0)   #row wise insert\n",
    "print(new_2d) \n",
    "\n",
    "new_2d = np.insert(arr_2d,2,[7,8],axis=1)     #column wise insert\n",
    "print(new_2d)"
   ]
  },
  {
   "cell_type": "code",
   "execution_count": null,
   "id": "1351e106",
   "metadata": {},
   "outputs": [
    {
     "name": "stdout",
     "output_type": "stream",
     "text": [
      "[ 1  2  3  4  5  6 10]\n",
      "[1 2 3 4 5 6 7 8 9]\n"
     ]
    }
   ],
   "source": [
    "# to append the element/s at last position of array --> append method\n",
    "arr = np.array([1,2,3,4,5,6])\n",
    "new = np.append(arr,10)     #to append only single element  \n",
    "print(new)\n",
    "new2 = np.append(arr,[7,8,9])    #to append list of element\n",
    "print(new2)"
   ]
  },
  {
   "cell_type": "code",
   "execution_count": 23,
   "id": "f21593b9",
   "metadata": {},
   "outputs": [
    {
     "name": "stdout",
     "output_type": "stream",
     "text": [
      "[1 2 3 4 5 6 7 8]\n"
     ]
    }
   ],
   "source": [
    "#to joinbt two arrays --> concatenate method\n",
    "arr1 = np.arange(1,5)\n",
    "arr2 = np.arange(5,9)\n",
    "new_hor = np.concatenate((arr1,arr2),axis=0)    #horizontal stacking\n",
    "print(new_hor)\n"
   ]
  },
  {
   "cell_type": "code",
   "execution_count": null,
   "id": "4df4dc4d",
   "metadata": {},
   "outputs": [
    {
     "name": "stdout",
     "output_type": "stream",
     "text": [
      "[1 2 4]\n"
     ]
    }
   ],
   "source": [
    "# to delete some specific element\n",
    "arr = np.arange(1,5)\n",
    "print(np.delete(arr,2))    #delete the 2 index element"
   ]
  },
  {
   "cell_type": "code",
   "execution_count": 25,
   "id": "d87b2b66",
   "metadata": {},
   "outputs": [
    {
     "name": "stdout",
     "output_type": "stream",
     "text": [
      "[[1 2 3 4]\n",
      " [5 6 7 8]]\n",
      "[1 2 3 4 5 6 7 8]\n"
     ]
    }
   ],
   "source": [
    "#Stacking\n",
    "#vstack -> to stack two arrays vertically\n",
    "#hstack -> to stack two arrays horizontally\n",
    "arr1 = np.arange(1,5)\n",
    "arr2 = np.arange(5,9)\n",
    "print(np.vstack((arr1,arr2)))\n",
    "print(np.hstack((arr1,arr2)))"
   ]
  },
  {
   "cell_type": "code",
   "execution_count": null,
   "id": "1620b1b9",
   "metadata": {},
   "outputs": [
    {
     "name": "stdout",
     "output_type": "stream",
     "text": [
      "[array([1, 2, 3]), array([4, 5, 6])]\n",
      "[array([1, 2, 3]), array([4, 5, 6])]\n",
      "[array([[1, 2, 3]]), array([[4, 5, 6]])]\n"
     ]
    }
   ],
   "source": [
    "#Splitting\n",
    "arr = np.array([1,2,3,4,5,6])\n",
    "print(np.split(arr,2))\n",
    "print(np.hsplit(arr,2))\n",
    "\n",
    "arr_2d = np.array([[1,2,3], \n",
    "               [4,5,6]])\n",
    "print(np.vsplit(arr_2d,2))     #vsplit only works for multi dimensional array"
   ]
  },
  {
   "cell_type": "markdown",
   "id": "5a6ae09a",
   "metadata": {},
   "source": [
    "#### Handling Missing Values"
   ]
  },
  {
   "cell_type": "code",
   "execution_count": null,
   "id": "e912885b",
   "metadata": {},
   "outputs": [
    {
     "name": "stdout",
     "output_type": "stream",
     "text": [
      "[False False  True False  True False]\n",
      "[ 1.  2. 10.  4. 10.  6.]\n"
     ]
    }
   ],
   "source": [
    "#handling the nan values\n",
    "import numpy as np\n",
    "arr = np.array([1,2,np.nan,4,np.nan,6])   #define some nan values\n",
    "print(np.isnan(arr))    #to check any nan value\n",
    "\n",
    "#to handle these values\n",
    "print(np.nan_to_num(arr,nan=10))      #replace the nan values by 10\n"
   ]
  },
  {
   "cell_type": "code",
   "execution_count": 37,
   "id": "23355a1d",
   "metadata": {},
   "outputs": [
    {
     "name": "stdout",
     "output_type": "stream",
     "text": [
      "[False False  True False  True False]\n",
      "[   1.    2.  100.    4. -100.    6.]\n"
     ]
    }
   ],
   "source": [
    "#handling the infinite values\n",
    "import numpy as np\n",
    "arr = np.array([1,2,np.inf,4,-np.inf,6])  #define infinite values(positive and negative)\n",
    "print(np.isinf(arr))        #to check infinite values\n",
    "\n",
    "\n",
    "#to handle these values\n",
    "print(np.nan_to_num(arr,posinf=100,neginf=-100))"
   ]
  }
 ],
 "metadata": {
  "kernelspec": {
   "display_name": "Python 3",
   "language": "python",
   "name": "python3"
  },
  "language_info": {
   "codemirror_mode": {
    "name": "ipython",
    "version": 3
   },
   "file_extension": ".py",
   "mimetype": "text/x-python",
   "name": "python",
   "nbconvert_exporter": "python",
   "pygments_lexer": "ipython3",
   "version": "3.12.0"
  }
 },
 "nbformat": 4,
 "nbformat_minor": 5
}
